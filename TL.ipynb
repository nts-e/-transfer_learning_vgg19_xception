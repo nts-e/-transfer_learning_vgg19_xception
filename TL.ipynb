{
  "cells": [
    {
      "cell_type": "markdown",
      "metadata": {
        "id": "view-in-github",
        "colab_type": "text"
      },
      "source": [
        "<a href=\"https://colab.research.google.com/github/nts-e/-transfer_learning_vgg19_xception/blob/main/TL.ipynb\" target=\"_parent\"><img src=\"https://colab.research.google.com/assets/colab-badge.svg\" alt=\"Open In Colab\"/></a>"
      ]
    },
    {
      "cell_type": "markdown",
      "source": [
        "# **Transfer Learning - Chest X-Ray Images (Pneumonia)**\n",
        "\n",
        "* Based on a Kaggle [dataset](https://www.kaggle.com/datasets/paultimothymooney/chest-xray-pneumonia)\n",
        "* Using VGG19 and Xception for binary classification\n",
        "\n"
      ],
      "metadata": {
        "id": "9oTqO3-vJuHb"
      }
    },
    {
      "cell_type": "markdown",
      "source": [
        "# Prepare Transfer Learning Model"
      ],
      "metadata": {
        "id": "LvzuAbvh5cR_"
      }
    },
    {
      "cell_type": "markdown",
      "metadata": {
        "id": "dYCFhSKN1U8f"
      },
      "source": [
        "## Initializations"
      ]
    },
    {
      "cell_type": "code",
      "execution_count": null,
      "metadata": {
        "id": "S2KYuyn5-wdy",
        "colab": {
          "base_uri": "https://localhost:8080/"
        },
        "outputId": "e7fcf550-469c-46b1-d9f9-ae45b03cc7a7"
      },
      "outputs": [
        {
          "output_type": "stream",
          "name": "stdout",
          "text": [
            "Mounted at /content/drive\n"
          ]
        }
      ],
      "source": [
        "\n",
        "RANDOM_STATE                  = 1\n",
        "\n",
        "USE_GOOGLE_DRIVE_FOR_FILES    = True\n",
        "DATA_FOLDER_PATH              = \"\"\n",
        "\n",
        "if USE_GOOGLE_DRIVE_FOR_FILES:\n",
        "  from google.colab import drive\n",
        "  drive.mount('/content/drive')"
      ]
    },
    {
      "cell_type": "code",
      "source": [
        "from tensorflow.keras.preprocessing           import image\n",
        "from tensorflow.keras.optimizers              import Adam\n",
        "from tensorflow.keras.metrics                 import Precision, Recall\n",
        "from keras                                    import Input, Sequential\n",
        "from keras.applications.vgg19                 import VGG19, preprocess_input, decode_predictions\n",
        "from tensorflow.keras.applications.xception   import Xception\n",
        "from keras.callbacks                          import EarlyStopping, ModelCheckpoint, ReduceLROnPlateau, Callback\n",
        "from keras.layers                             import GlobalAveragePooling2D, Dense, BatchNormalization, Dropout, Activation\n",
        "from keras.models                             import Model, load_model\n",
        "from sklearn.preprocessing                    import label_binarize\n",
        "from sklearn.model_selection                  import train_test_split\n",
        "from tqdm                                     import tqdm\n",
        "\n",
        "import pickle\n",
        "import cv2\n",
        "import os\n",
        "import pandas as pd\n",
        "import matplotlib.pyplot as plt\n",
        "import numpy as np\n",
        "import json\n",
        "import math\n"
      ],
      "metadata": {
        "id": "_MCsL2q3xp7O"
      },
      "execution_count": null,
      "outputs": []
    },
    {
      "cell_type": "markdown",
      "source": [
        "## Create dataframe"
      ],
      "metadata": {
        "id": "2oCven42wTH2"
      }
    },
    {
      "cell_type": "markdown",
      "source": [
        "**The 'Create dataframe' section can be skipped if done before. Just load chest_xray.csv from storage**"
      ],
      "metadata": {
        "id": "95hCcrC6KkGw"
      }
    },
    {
      "cell_type": "code",
      "source": [
        "# if exists\n",
        "df = pd.read_csv(f\"{DATA_FOLDER_PATH}/chest_xray.csv\")"
      ],
      "metadata": {
        "id": "Zd13vDG0K_c6"
      },
      "execution_count": null,
      "outputs": []
    },
    {
      "cell_type": "markdown",
      "source": [
        "**Skip the rest of this section if you loaded from CSV**"
      ],
      "metadata": {
        "id": "axGH025-MuYq"
      }
    },
    {
      "cell_type": "markdown",
      "source": [
        "Load images names and labels from the files folder"
      ],
      "metadata": {
        "id": "sz5kCPyqGxCK"
      }
    },
    {
      "cell_type": "code",
      "source": [
        "name = []\n",
        "label= []\n",
        "original_fold=[]\n",
        "path=[]\n",
        "\n",
        "for fold in ['train', 'test']:\n",
        "  for label_type in ['NORMAL', 'PNEUMONIA']:\n",
        "    current_path = f\"{DATA_FOLDER_PATH}/{fold}/{label_type}\"\n",
        "    ld = os.listdir(current_path)\n",
        "    jpegs_names = [file_name for file_name in ld if file_name[-4:]=='jpeg']\n",
        "    name.extend([file_name for file_name in ld if file_name[-4:]=='jpeg'])\n",
        "    label.extend([1 if label_type=='PNEUMONIA' else 0] * len(jpegs_names))\n",
        "    original_fold.extend([fold] * len(jpegs_names))\n",
        "    path.extend([f\"{current_path}/{n}\" for n in jpegs_names])\n",
        "\n",
        "df = pd.DataFrame({'name': name, 'label': label, 'original_fold': original_fold, 'path': path})"
      ],
      "metadata": {
        "id": "4m8whYclkNfW"
      },
      "execution_count": null,
      "outputs": []
    },
    {
      "cell_type": "code",
      "source": [
        "df['label'].value_counts()"
      ],
      "metadata": {
        "colab": {
          "base_uri": "https://localhost:8080/"
        },
        "id": "5a_cQllPn6w7",
        "outputId": "1a33c737-5245-4a83-d81b-2b0d0b5c2551"
      },
      "execution_count": null,
      "outputs": [
        {
          "output_type": "execute_result",
          "data": {
            "text/plain": [
              "1    4273\n",
              "0    1583\n",
              "Name: label, dtype: int64"
            ]
          },
          "metadata": {},
          "execution_count": 4
        }
      ]
    },
    {
      "cell_type": "code",
      "source": [
        "#shuffle\n",
        "df = df.sample(frac=1, random_state=RANDOM_STATE).reset_index()\n",
        "df.head()"
      ],
      "metadata": {
        "colab": {
          "base_uri": "https://localhost:8080/",
          "height": 206
        },
        "id": "TQ5U7DMrvmU-",
        "outputId": "95d6ba00-68e8-4520-9d23-0c98df5f80e3"
      },
      "execution_count": null,
      "outputs": [
        {
          "output_type": "execute_result",
          "data": {
            "text/plain": [
              "   level_0  Unnamed: 0  index                          name  label  \\\n",
              "0      222         222   1676    person1180_virus_2011.jpeg      1   \n",
              "1     2326        2326    481        IM-0624-0001-0002.jpeg      0   \n",
              "2     2162        2162   4585  person653_bacteria_2545.jpeg      1   \n",
              "3     2363        2363   5440     NORMAL2-IM-0139-0001.jpeg      0   \n",
              "4     5651        5651    591             IM-0656-0001.jpeg      0   \n",
              "\n",
              "  original_fold                                               path  image_x  \\\n",
              "0         train  /content/drive/My Drive/Data Science/Naya/Proj...      592   \n",
              "1         train  /content/drive/My Drive/Data Science/Naya/Proj...     1334   \n",
              "2         train  /content/drive/My Drive/Data Science/Naya/Proj...      784   \n",
              "3          test  /content/drive/My Drive/Data Science/Naya/Proj...     1375   \n",
              "4         train  /content/drive/My Drive/Data Science/Naya/Proj...     1395   \n",
              "\n",
              "   image_y  \n",
              "0      936  \n",
              "1     1690  \n",
              "2     1136  \n",
              "3     2014  \n",
              "4     1504  "
            ],
            "text/html": [
              "\n",
              "  <div id=\"df-0050488d-b777-4492-8292-78383272b7f9\">\n",
              "    <div class=\"colab-df-container\">\n",
              "      <div>\n",
              "<style scoped>\n",
              "    .dataframe tbody tr th:only-of-type {\n",
              "        vertical-align: middle;\n",
              "    }\n",
              "\n",
              "    .dataframe tbody tr th {\n",
              "        vertical-align: top;\n",
              "    }\n",
              "\n",
              "    .dataframe thead th {\n",
              "        text-align: right;\n",
              "    }\n",
              "</style>\n",
              "<table border=\"1\" class=\"dataframe\">\n",
              "  <thead>\n",
              "    <tr style=\"text-align: right;\">\n",
              "      <th></th>\n",
              "      <th>level_0</th>\n",
              "      <th>Unnamed: 0</th>\n",
              "      <th>index</th>\n",
              "      <th>name</th>\n",
              "      <th>label</th>\n",
              "      <th>original_fold</th>\n",
              "      <th>path</th>\n",
              "      <th>image_x</th>\n",
              "      <th>image_y</th>\n",
              "    </tr>\n",
              "  </thead>\n",
              "  <tbody>\n",
              "    <tr>\n",
              "      <th>0</th>\n",
              "      <td>222</td>\n",
              "      <td>222</td>\n",
              "      <td>1676</td>\n",
              "      <td>person1180_virus_2011.jpeg</td>\n",
              "      <td>1</td>\n",
              "      <td>train</td>\n",
              "      <td>/content/drive/My Drive/Data Science/Naya/Proj...</td>\n",
              "      <td>592</td>\n",
              "      <td>936</td>\n",
              "    </tr>\n",
              "    <tr>\n",
              "      <th>1</th>\n",
              "      <td>2326</td>\n",
              "      <td>2326</td>\n",
              "      <td>481</td>\n",
              "      <td>IM-0624-0001-0002.jpeg</td>\n",
              "      <td>0</td>\n",
              "      <td>train</td>\n",
              "      <td>/content/drive/My Drive/Data Science/Naya/Proj...</td>\n",
              "      <td>1334</td>\n",
              "      <td>1690</td>\n",
              "    </tr>\n",
              "    <tr>\n",
              "      <th>2</th>\n",
              "      <td>2162</td>\n",
              "      <td>2162</td>\n",
              "      <td>4585</td>\n",
              "      <td>person653_bacteria_2545.jpeg</td>\n",
              "      <td>1</td>\n",
              "      <td>train</td>\n",
              "      <td>/content/drive/My Drive/Data Science/Naya/Proj...</td>\n",
              "      <td>784</td>\n",
              "      <td>1136</td>\n",
              "    </tr>\n",
              "    <tr>\n",
              "      <th>3</th>\n",
              "      <td>2363</td>\n",
              "      <td>2363</td>\n",
              "      <td>5440</td>\n",
              "      <td>NORMAL2-IM-0139-0001.jpeg</td>\n",
              "      <td>0</td>\n",
              "      <td>test</td>\n",
              "      <td>/content/drive/My Drive/Data Science/Naya/Proj...</td>\n",
              "      <td>1375</td>\n",
              "      <td>2014</td>\n",
              "    </tr>\n",
              "    <tr>\n",
              "      <th>4</th>\n",
              "      <td>5651</td>\n",
              "      <td>5651</td>\n",
              "      <td>591</td>\n",
              "      <td>IM-0656-0001.jpeg</td>\n",
              "      <td>0</td>\n",
              "      <td>train</td>\n",
              "      <td>/content/drive/My Drive/Data Science/Naya/Proj...</td>\n",
              "      <td>1395</td>\n",
              "      <td>1504</td>\n",
              "    </tr>\n",
              "  </tbody>\n",
              "</table>\n",
              "</div>\n",
              "      <button class=\"colab-df-convert\" onclick=\"convertToInteractive('df-0050488d-b777-4492-8292-78383272b7f9')\"\n",
              "              title=\"Convert this dataframe to an interactive table.\"\n",
              "              style=\"display:none;\">\n",
              "        \n",
              "  <svg xmlns=\"http://www.w3.org/2000/svg\" height=\"24px\"viewBox=\"0 0 24 24\"\n",
              "       width=\"24px\">\n",
              "    <path d=\"M0 0h24v24H0V0z\" fill=\"none\"/>\n",
              "    <path d=\"M18.56 5.44l.94 2.06.94-2.06 2.06-.94-2.06-.94-.94-2.06-.94 2.06-2.06.94zm-11 1L8.5 8.5l.94-2.06 2.06-.94-2.06-.94L8.5 2.5l-.94 2.06-2.06.94zm10 10l.94 2.06.94-2.06 2.06-.94-2.06-.94-.94-2.06-.94 2.06-2.06.94z\"/><path d=\"M17.41 7.96l-1.37-1.37c-.4-.4-.92-.59-1.43-.59-.52 0-1.04.2-1.43.59L10.3 9.45l-7.72 7.72c-.78.78-.78 2.05 0 2.83L4 21.41c.39.39.9.59 1.41.59.51 0 1.02-.2 1.41-.59l7.78-7.78 2.81-2.81c.8-.78.8-2.07 0-2.86zM5.41 20L4 18.59l7.72-7.72 1.47 1.35L5.41 20z\"/>\n",
              "  </svg>\n",
              "      </button>\n",
              "      \n",
              "  <style>\n",
              "    .colab-df-container {\n",
              "      display:flex;\n",
              "      flex-wrap:wrap;\n",
              "      gap: 12px;\n",
              "    }\n",
              "\n",
              "    .colab-df-convert {\n",
              "      background-color: #E8F0FE;\n",
              "      border: none;\n",
              "      border-radius: 50%;\n",
              "      cursor: pointer;\n",
              "      display: none;\n",
              "      fill: #1967D2;\n",
              "      height: 32px;\n",
              "      padding: 0 0 0 0;\n",
              "      width: 32px;\n",
              "    }\n",
              "\n",
              "    .colab-df-convert:hover {\n",
              "      background-color: #E2EBFA;\n",
              "      box-shadow: 0px 1px 2px rgba(60, 64, 67, 0.3), 0px 1px 3px 1px rgba(60, 64, 67, 0.15);\n",
              "      fill: #174EA6;\n",
              "    }\n",
              "\n",
              "    [theme=dark] .colab-df-convert {\n",
              "      background-color: #3B4455;\n",
              "      fill: #D2E3FC;\n",
              "    }\n",
              "\n",
              "    [theme=dark] .colab-df-convert:hover {\n",
              "      background-color: #434B5C;\n",
              "      box-shadow: 0px 1px 3px 1px rgba(0, 0, 0, 0.15);\n",
              "      filter: drop-shadow(0px 1px 2px rgba(0, 0, 0, 0.3));\n",
              "      fill: #FFFFFF;\n",
              "    }\n",
              "  </style>\n",
              "\n",
              "      <script>\n",
              "        const buttonEl =\n",
              "          document.querySelector('#df-0050488d-b777-4492-8292-78383272b7f9 button.colab-df-convert');\n",
              "        buttonEl.style.display =\n",
              "          google.colab.kernel.accessAllowed ? 'block' : 'none';\n",
              "\n",
              "        async function convertToInteractive(key) {\n",
              "          const element = document.querySelector('#df-0050488d-b777-4492-8292-78383272b7f9');\n",
              "          const dataTable =\n",
              "            await google.colab.kernel.invokeFunction('convertToInteractive',\n",
              "                                                     [key], {});\n",
              "          if (!dataTable) return;\n",
              "\n",
              "          const docLinkHtml = 'Like what you see? Visit the ' +\n",
              "            '<a target=\"_blank\" href=https://colab.research.google.com/notebooks/data_table.ipynb>data table notebook</a>'\n",
              "            + ' to learn more about interactive tables.';\n",
              "          element.innerHTML = '';\n",
              "          dataTable['output_type'] = 'display_data';\n",
              "          await google.colab.output.renderOutput(dataTable, element);\n",
              "          const docLink = document.createElement('div');\n",
              "          docLink.innerHTML = docLinkHtml;\n",
              "          element.appendChild(docLink);\n",
              "        }\n",
              "      </script>\n",
              "    </div>\n",
              "  </div>\n",
              "  "
            ]
          },
          "metadata": {},
          "execution_count": 5
        }
      ]
    },
    {
      "cell_type": "markdown",
      "source": [
        "Example of an image"
      ],
      "metadata": {
        "id": "qixHqBtwIMar"
      }
    },
    {
      "cell_type": "code",
      "source": [
        "img = image.load_img(df['path'][2], target_size=(300,300))\n",
        "img"
      ],
      "metadata": {
        "colab": {
          "base_uri": "https://localhost:8080/",
          "height": 317
        },
        "id": "D2v5QPn19Wwx",
        "outputId": "f23eee9f-9270-47fd-cf8b-6679898def6d"
      },
      "execution_count": null,
      "outputs": [
        {
          "output_type": "execute_result",
          "data": {
            "text/plain": [
              "<PIL.Image.Image image mode=RGB size=300x300 at 0x7F69D08C5C40>"
            ],
            "image/png": "[encoded data removed]"
          },
          "metadata": {},
          "execution_count": 6
        }
      ]
    },
    {
      "cell_type": "markdown",
      "source": [
        "Variable image sizes "
      ],
      "metadata": {
        "id": "8lPs6YQNIYu6"
      }
    },
    {
      "cell_type": "code",
      "source": [
        "arr = image.img_to_array(image.load_img(df['path'][1]))[:,:,1]\n",
        "print(arr.shape)\n",
        "\n",
        "arr = image.img_to_array(image.load_img(df['path'][2]))[:,:,1]\n",
        "print(arr.shape)"
      ],
      "metadata": {
        "colab": {
          "base_uri": "https://localhost:8080/"
        },
        "id": "MJ9F8Ez59m4h",
        "outputId": "44908431-1096-4e40-d7ed-55d5864e740f"
      },
      "execution_count": null,
      "outputs": [
        {
          "output_type": "stream",
          "name": "stdout",
          "text": [
            "(616, 944)\n",
            "(856, 1312)\n"
          ]
        }
      ]
    },
    {
      "cell_type": "markdown",
      "source": [
        "**Skip this - can be loaded from pickle later**"
      ],
      "metadata": {
        "id": "ZQGOgozW2kLW"
      }
    },
    {
      "cell_type": "code",
      "source": [
        "#check all\n",
        "from tqdm import tqdm\n",
        "\n",
        "image_x = []\n",
        "image_y = []\n",
        "file_paths = df['path'].to_list()\n",
        "for i in tqdm(range(len(file_paths))):\n",
        "  arr = image.img_to_array(image.load_img(file_paths[i]))[:,:,1]\n",
        "  image_x.append(arr.shape[0])\n",
        "  image_y.append(arr.shape[1])\n",
        "\n",
        "df['image_x'] = image_x\n",
        "df['image_y'] = image_y"
      ],
      "metadata": {
        "id": "FczrmXn5ItwE"
      },
      "execution_count": null,
      "outputs": []
    },
    {
      "cell_type": "code",
      "source": [
        "df.to_csv(f\"{DATA_FOLDER_PATH}/chest_xray.csv\")"
      ],
      "metadata": {
        "id": "hVrxjnRdKgzY"
      },
      "execution_count": null,
      "outputs": []
    },
    {
      "cell_type": "code",
      "source": [
        "print(df['image_x'].min(),df['image_x'].max(), df['image_x'].mean())\n",
        "print(df['image_y'].min(),df['image_y'].max(), df['image_y'].mean())"
      ],
      "metadata": {
        "colab": {
          "base_uri": "https://localhost:8080/"
        },
        "id": "wsSPe0TUMrfL",
        "outputId": "d415c391-f465-4b13-9564-b1e78343a68e"
      },
      "execution_count": null,
      "outputs": [
        {
          "output_type": "stream",
          "name": "stdout",
          "text": [
            "127 2713 970.6890368852459\n",
            "384 2916 1327.880806010929\n"
          ]
        }
      ]
    },
    {
      "cell_type": "code",
      "source": [
        "# Determine the input size\n",
        "input_size = (200, 200)"
      ],
      "metadata": {
        "id": "JKZAWor-fHCf"
      },
      "execution_count": null,
      "outputs": []
    },
    {
      "cell_type": "markdown",
      "source": [
        "## Load images"
      ],
      "metadata": {
        "id": "pRnJzRg1PDqh"
      }
    },
    {
      "cell_type": "markdown",
      "source": [
        "**Note:** load using the next section and skip the following loading sections."
      ],
      "metadata": {
        "id": "j2YBMFbZiYVs"
      }
    },
    {
      "cell_type": "code",
      "source": [
        "# load X\n",
        "with open(f\"{DATA_FOLDER_PATH}/X_200_200_raw.pkl\", 'rb') as f:\n",
        "    X = pickle.load(f)"
      ],
      "metadata": {
        "id": "WNIiSpPMhDr9"
      },
      "execution_count": null,
      "outputs": []
    },
    {
      "cell_type": "markdown",
      "source": [
        "**skip if loaded from pickle**"
      ],
      "metadata": {
        "id": "ldCY0PKC2umE"
      }
    },
    {
      "cell_type": "code",
      "source": [
        "\n",
        "print(\"Loading images to variable X...\")\n",
        "l_img = []\n",
        "file_paths = list(df['path'].values)\n",
        "\n",
        "for i in tqdm(range(len(file_paths))):\n",
        "  img = cv2.resize(cv2.imread(file_paths[i], cv2.IMREAD_GRAYSCALE), input_size)\n",
        "  l_img.append(img)\n",
        "  \n",
        "X = np.array(l_img)"
      ],
      "metadata": {
        "colab": {
          "base_uri": "https://localhost:8080/"
        },
        "id": "1Zm8bcT8yWdr",
        "outputId": "dc616e96-ae18-4130-ddf8-2d0af322c971"
      },
      "execution_count": null,
      "outputs": [
        {
          "output_type": "stream",
          "name": "stdout",
          "text": [
            "Loading images to variable X...\n"
          ]
        },
        {
          "output_type": "stream",
          "name": "stderr",
          "text": [
            "100%|██████████| 5856/5856 [21:39<00:00,  4.51it/s]\n"
          ]
        }
      ]
    },
    {
      "cell_type": "markdown",
      "source": [
        "## Split"
      ],
      "metadata": {
        "id": "eCkqpiIDmoHs"
      }
    },
    {
      "cell_type": "code",
      "source": [
        "# expand from grayscale to 3 channels\n",
        "X = np.expand_dims(X, -1)\n",
        "X = X.repeat(3, axis=-1)\n",
        "X.shape"
      ],
      "metadata": {
        "id": "le4Tflf0xjur",
        "colab": {
          "base_uri": "https://localhost:8080/"
        },
        "outputId": "d6e2aa9a-ee95-4f90-f706-dad96d1445cf"
      },
      "execution_count": null,
      "outputs": [
        {
          "output_type": "execute_result",
          "data": {
            "text/plain": [
              "(5856, 200, 200, 3)"
            ]
          },
          "metadata": {},
          "execution_count": 6
        }
      ]
    },
    {
      "cell_type": "code",
      "source": [
        "y = np.array(df['label'])\n",
        "\n",
        "# Split: 70% train, 10% validation, 20% test\n",
        "X_temp, X_test, y_temp, y_test = train_test_split(X, y, test_size=0.2, random_state=RANDOM_STATE, stratify=y)\n",
        "X_train, X_valid, y_train, y_valid = train_test_split(X_temp, y_temp, test_size=0.12, random_state=RANDOM_STATE, stratify=y_temp)\n",
        "\n",
        "print(f'Train: {X_train.shape}', f'Validation: {X_valid.shape}', f'Test: {X_test.shape}', sep=\"\\n\")"
      ],
      "metadata": {
        "id": "nVL7coZCoWud",
        "colab": {
          "base_uri": "https://localhost:8080/"
        },
        "outputId": "db423bd4-d83c-4d39-cddf-c0cda1971041"
      },
      "execution_count": null,
      "outputs": [
        {
          "output_type": "stream",
          "name": "stdout",
          "text": [
            "Train: (4121, 200, 200, 3)\n",
            "Validation: (563, 200, 200, 3)\n",
            "Test: (1172, 200, 200, 3)\n"
          ]
        }
      ]
    },
    {
      "cell_type": "markdown",
      "metadata": {
        "id": "VQ4gq58G1ppu"
      },
      "source": [
        "# Transfer learning model - VGG 19"
      ]
    },
    {
      "cell_type": "markdown",
      "source": [
        "VGG 19 dedicated scaling"
      ],
      "metadata": {
        "id": "HDbsV5Kd6U8d"
      }
    },
    {
      "cell_type": "code",
      "execution_count": null,
      "metadata": {
        "id": "eRm57T2pNPzg"
      },
      "outputs": [],
      "source": [
        "\n",
        "# subtracting the mean RGB value, computed on the training set, from each pixel\n",
        "X_test = preprocess_input(X_test)\n",
        "X_valid = preprocess_input(X_valid)\n",
        "X_train = preprocess_input(X_train)"
      ]
    },
    {
      "cell_type": "code",
      "source": [
        "run_number = 1\n",
        "\n",
        "num_epochs = 30\n",
        "learning_rate = 1 * 1e-3\n",
        "early_stopping_patience = 4\n",
        "early_stopping_min_delta = 0.003\n",
        "batch_size = 32\n",
        "\n",
        "optimizer = Adam(learning_rate=learning_rate) \n",
        "\n",
        "model_file_prefix = f'{DATA_FOLDER_PATH}/{run_number}' \n",
        "\n",
        "# callback 1: early stopping (for short runs)\n",
        "es = EarlyStopping(monitor='val_loss', patience=early_stopping_patience, min_delta=early_stopping_min_delta, verbose=1)\n",
        "\n",
        "# callback 2: model checkpoint\n",
        "cp = ModelCheckpoint(filepath=model_file_prefix + '_best_model.h5', mode='max', monitor='val_accuracy', save_best_only=True, verbose=1)\n",
        "\n",
        "# callback 3: reduce learning rate on plateau. all values are default except verbose.\n",
        "reduce_lr = ReduceLROnPlateau(monitor=\"val_loss\",\n",
        "                              factor=0.1,\n",
        "                              patience=10,\n",
        "                              verbose=1,\n",
        "                              mode=\"auto\",\n",
        "                              min_delta=0.0001,\n",
        "                              cooldown=0,\n",
        "                              min_lr=0\n",
        "                              )\n",
        "\n",
        "# For fitting few times in a sequence, use validation_data = (X_valid, y_valid), otherwise use validation_split. Here I use it like that for control and debugging\n",
        "validation_data = (X_valid, y_valid)\n",
        "\n",
        "input_shape= [input_size[0], input_size[1], 3]\n",
        "\n",
        "# include_top=False --> get the outputs of the convolution layers, before the FC layers\n",
        "base_model = VGG19(input_shape=input_shape, weights='imagenet', include_top=False)\n",
        "\n",
        "base_model.trainable = False\n",
        "\n",
        "inputs = Input(shape=input_shape)\n",
        "\n",
        "o = base_model(inputs, training=False)\n",
        "o = GlobalAveragePooling2D()(o)\n",
        "o = Dense(1024)(o)\n",
        "o = BatchNormalization()(o)\n",
        "o = Activation('relu')(o)\n",
        "o = Dropout(rate=0.3, seed=RANDOM_STATE)(o)\n",
        "  \n",
        "predictions = Dense(1, activation='sigmoid')(o)\n",
        "model = Model(inputs=inputs, outputs=predictions)\n",
        "\n",
        "model.compile(optimizer=optimizer,  loss='binary_crossentropy', metrics=['accuracy', Precision(), Recall()])\n"
      ],
      "metadata": {
        "id": "crRoSWpJBGMs"
      },
      "execution_count": null,
      "outputs": []
    },
    {
      "cell_type": "code",
      "source": [
        "model.summary()"
      ],
      "metadata": {
        "colab": {
          "base_uri": "https://localhost:8080/"
        },
        "id": "mab5hY3hrULp",
        "outputId": "df9f8bd1-460b-457b-8767-9b535a7acfdc"
      },
      "execution_count": null,
      "outputs": [
        {
          "output_type": "stream",
          "name": "stdout",
          "text": [
            "Model: \"model\"\n",
            "_________________________________________________________________\n",
            " Layer (type)                Output Shape              Param #   \n",
            "=================================================================\n",
            " input_2 (InputLayer)        [(None, 200, 200, 3)]     0         \n",
            "                                                                 \n",
            " vgg19 (Functional)          (None, 6, 6, 512)         20024384  \n",
            "                                                                 \n",
            " global_average_pooling2d (G  (None, 512)              0         \n",
            " lobalAveragePooling2D)                                          \n",
            "                                                                 \n",
            " dense (Dense)               (None, 1024)              525312    \n",
            "                                                                 \n",
            " batch_normalization (BatchN  (None, 1024)             4096      \n",
            " ormalization)                                                   \n",
            "                                                                 \n",
            " activation (Activation)     (None, 1024)              0         \n",
            "                                                                 \n",
            " dropout (Dropout)           (None, 1024)              0         \n",
            "                                                                 \n",
            " dense_1 (Dense)             (None, 1)                 1025      \n",
            "                                                                 \n",
            "=================================================================\n",
            "Total params: 20,554,817\n",
            "Trainable params: 528,385\n",
            "Non-trainable params: 20,026,432\n",
            "_________________________________________________________________\n"
          ]
        }
      ]
    },
    {
      "cell_type": "code",
      "source": [
        "history_test={'test_loss': [], 'test_accuracy': [], 'test_precision': [], 'test_recall': []}\n",
        "\n",
        "class EvaluateEpochEnd(Callback):\n",
        "    def __init__(self, test_data):\n",
        "        self.test_data = test_data\n",
        "\n",
        "    def on_epoch_end(self, epoch, logs={}):\n",
        "        #super().on_epoch_end(epoch, logs)\n",
        "        x, y = self.test_data\n",
        "        scores = self.model.evaluate(x, y, verbose=False)\n",
        "        history_test['test_loss'].append(scores[0])\n",
        "        history_test['test_accuracy'].append(scores[1])\n",
        "        history_test['test_precision'].append(scores[2])\n",
        "        history_test['test_recall'].append(scores[3])\n",
        "        print('\\nTesting loss: {}, accuracy: {}, precision: {}, recall: {}\\n'.format(scores[0], scores[1], scores[2], scores[3]))\n",
        "\n",
        "class EpochModelCheckpoint(ModelCheckpoint):\n",
        "\n",
        "    def __init__(self,\n",
        "                 filepath,\n",
        "                 frequency=1,\n",
        "                 monitor='val_loss',\n",
        "                 verbose=0,\n",
        "                 save_best_only=False,\n",
        "                 save_weights_only=False,\n",
        "                 mode='auto',\n",
        "                 options=None,\n",
        "                 **kwargs):\n",
        "        super(EpochModelCheckpoint, self).__init__(filepath, monitor, verbose, save_best_only, save_weights_only,\n",
        "                                                   mode, \"epoch\", options)\n",
        "        self.epochs_since_last_save = 0\n",
        "        self.frequency = frequency\n",
        "\n",
        "    def on_epoch_end(self, epoch, logs=None):\n",
        "        self.epochs_since_last_save += 1\n",
        "        # pylint: disable=protected-access\n",
        "        if self.epochs_since_last_save % self.frequency == 0:\n",
        "            self._save_model(epoch=epoch, batch=None, logs=logs)\n",
        "\n",
        "    def on_train_batch_end(self, batch, logs=None):\n",
        "        pass"
      ],
      "metadata": {
        "id": "cfBZbLrNxgxy"
      },
      "execution_count": null,
      "outputs": []
    },
    {
      "cell_type": "code",
      "source": [
        "# I used a callback that saves the model every 10 epochs. I calculate the test loss and accuracy on these checkpoints after the run is finished.\n",
        "history = model.fit(x=X_train, y=y_train, batch_size=batch_size, epochs=num_epochs, validation_data=validation_data, callbacks=[cp, reduce_lr, EpochModelCheckpoint(model_file_prefix + '_epoch_{epoch:03d}.h5', frequency=10)])\n",
        "\n",
        "# print all the run history, that can be used later on for the graphs\n",
        "print(\"RUN HISTORY:\\n\")\n",
        "print(history.history.keys())\n",
        "print(history.history.values())"
      ],
      "metadata": {
        "colab": {
          "base_uri": "https://localhost:8080/"
        },
        "id": "gN4LKzJR6rqR",
        "outputId": "9e1419e9-0db1-469b-9f44-1131f28866be"
      },
      "execution_count": null,
      "outputs": [
        {
          "output_type": "stream",
          "name": "stdout",
          "text": [
            "Epoch 1/30\n",
            "129/129 [==============================] - ETA: 0s - loss: 0.1628 - accuracy: 0.9393 - precision: 0.9590 - recall: 0.9578\n",
            "Epoch 1: val_accuracy improved from -inf to 0.90941, saving model to /content/drive/My Drive/Data Science/Naya/Projects/5 - Final/Data/1_best_model.h5\n",
            "129/129 [==============================] - 33s 217ms/step - loss: 0.1628 - accuracy: 0.9393 - precision: 0.9590 - recall: 0.9578 - val_loss: 0.2761 - val_accuracy: 0.9094 - val_precision: 0.9891 - val_recall: 0.8856 - lr: 0.0010\n",
            "Epoch 2/30\n",
            "129/129 [==============================] - ETA: 0s - loss: 0.0819 - accuracy: 0.9704 - precision: 0.9807 - recall: 0.9787\n",
            "Epoch 2: val_accuracy improved from 0.90941 to 0.95204, saving model to /content/drive/My Drive/Data Science/Naya/Projects/5 - Final/Data/1_best_model.h5\n",
            "129/129 [==============================] - 24s 186ms/step - loss: 0.0819 - accuracy: 0.9704 - precision: 0.9807 - recall: 0.9787 - val_loss: 0.1399 - val_accuracy: 0.9520 - val_precision: 0.9848 - val_recall: 0.9489 - lr: 0.0010\n",
            "Epoch 3/30\n",
            "129/129 [==============================] - ETA: 0s - loss: 0.0522 - accuracy: 0.9806 - precision: 0.9851 - recall: 0.9884\n",
            "Epoch 3: val_accuracy did not improve from 0.95204\n",
            "129/129 [==============================] - 23s 180ms/step - loss: 0.0522 - accuracy: 0.9806 - precision: 0.9851 - recall: 0.9884 - val_loss: 0.1395 - val_accuracy: 0.9449 - val_precision: 0.9774 - val_recall: 0.9465 - lr: 0.0010\n",
            "Epoch 4/30\n",
            "129/129 [==============================] - ETA: 0s - loss: 0.0538 - accuracy: 0.9801 - precision: 0.9860 - recall: 0.9867\n",
            "Epoch 4: val_accuracy did not improve from 0.95204\n",
            "129/129 [==============================] - 23s 182ms/step - loss: 0.0538 - accuracy: 0.9801 - precision: 0.9860 - recall: 0.9867 - val_loss: 0.1554 - val_accuracy: 0.9467 - val_precision: 0.9872 - val_recall: 0.9392 - lr: 0.0010\n",
            "Epoch 5/30\n",
            "129/129 [==============================] - ETA: 0s - loss: 0.0387 - accuracy: 0.9857 - precision: 0.9897 - recall: 0.9907\n",
            "Epoch 5: val_accuracy did not improve from 0.95204\n",
            "129/129 [==============================] - 24s 185ms/step - loss: 0.0387 - accuracy: 0.9857 - precision: 0.9897 - recall: 0.9907 - val_loss: 0.1446 - val_accuracy: 0.9503 - val_precision: 0.9485 - val_recall: 0.9854 - lr: 0.0010\n",
            "Epoch 6/30\n",
            "129/129 [==============================] - ETA: 0s - loss: 0.0407 - accuracy: 0.9847 - precision: 0.9887 - recall: 0.9904\n",
            "Epoch 6: val_accuracy did not improve from 0.95204\n",
            "129/129 [==============================] - 24s 185ms/step - loss: 0.0407 - accuracy: 0.9847 - precision: 0.9887 - recall: 0.9904 - val_loss: 0.2753 - val_accuracy: 0.9236 - val_precision: 0.9946 - val_recall: 0.9002 - lr: 0.0010\n",
            "Epoch 7/30\n",
            "129/129 [==============================] - ETA: 0s - loss: 0.0273 - accuracy: 0.9898 - precision: 0.9940 - recall: 0.9920\n",
            "Epoch 7: val_accuracy did not improve from 0.95204\n",
            "129/129 [==============================] - 24s 185ms/step - loss: 0.0273 - accuracy: 0.9898 - precision: 0.9940 - recall: 0.9920 - val_loss: 0.2759 - val_accuracy: 0.9201 - val_precision: 0.9031 - val_recall: 0.9976 - lr: 0.0010\n",
            "Epoch 8/30\n",
            "129/129 [==============================] - ETA: 0s - loss: 0.0271 - accuracy: 0.9903 - precision: 0.9937 - recall: 0.9930\n",
            "Epoch 8: val_accuracy did not improve from 0.95204\n",
            "129/129 [==============================] - 24s 186ms/step - loss: 0.0271 - accuracy: 0.9903 - precision: 0.9937 - recall: 0.9930 - val_loss: 0.3807 - val_accuracy: 0.9023 - val_precision: 0.8836 - val_recall: 0.9976 - lr: 0.0010\n",
            "Epoch 9/30\n",
            "129/129 [==============================] - ETA: 0s - loss: 0.0247 - accuracy: 0.9908 - precision: 0.9924 - recall: 0.9950\n",
            "Epoch 9: val_accuracy did not improve from 0.95204\n",
            "129/129 [==============================] - 24s 187ms/step - loss: 0.0247 - accuracy: 0.9908 - precision: 0.9924 - recall: 0.9950 - val_loss: 0.2429 - val_accuracy: 0.9396 - val_precision: 0.9948 - val_recall: 0.9221 - lr: 0.0010\n",
            "Epoch 10/30\n",
            "129/129 [==============================] - ETA: 0s - loss: 0.0146 - accuracy: 0.9951 - precision: 0.9960 - recall: 0.9973\n",
            "Epoch 10: val_accuracy improved from 0.95204 to 0.95915, saving model to /content/drive/My Drive/Data Science/Naya/Projects/5 - Final/Data/1_best_model.h5\n",
            "129/129 [==============================] - 26s 200ms/step - loss: 0.0146 - accuracy: 0.9951 - precision: 0.9960 - recall: 0.9973 - val_loss: 0.1401 - val_accuracy: 0.9591 - val_precision: 0.9802 - val_recall: 0.9635 - lr: 0.0010\n",
            "Epoch 11/30\n",
            "129/129 [==============================] - ETA: 0s - loss: 0.0117 - accuracy: 0.9976 - precision: 0.9983 - recall: 0.9983\n",
            "Epoch 11: val_accuracy did not improve from 0.95915\n",
            "129/129 [==============================] - 24s 189ms/step - loss: 0.0117 - accuracy: 0.9976 - precision: 0.9983 - recall: 0.9983 - val_loss: 0.1316 - val_accuracy: 0.9538 - val_precision: 0.9707 - val_recall: 0.9659 - lr: 0.0010\n",
            "Epoch 12/30\n",
            "129/129 [==============================] - ETA: 0s - loss: 0.0184 - accuracy: 0.9934 - precision: 0.9947 - recall: 0.9963\n",
            "Epoch 12: val_accuracy did not improve from 0.95915\n",
            "129/129 [==============================] - 24s 190ms/step - loss: 0.0184 - accuracy: 0.9934 - precision: 0.9947 - recall: 0.9963 - val_loss: 0.1841 - val_accuracy: 0.9467 - val_precision: 0.9613 - val_recall: 0.9659 - lr: 0.0010\n",
            "Epoch 13/30\n",
            "129/129 [==============================] - ETA: 0s - loss: 0.0183 - accuracy: 0.9947 - precision: 0.9963 - recall: 0.9963\n",
            "Epoch 13: val_accuracy did not improve from 0.95915\n",
            "129/129 [==============================] - 25s 191ms/step - loss: 0.0183 - accuracy: 0.9947 - precision: 0.9963 - recall: 0.9963 - val_loss: 0.1320 - val_accuracy: 0.9574 - val_precision: 0.9754 - val_recall: 0.9659 - lr: 0.0010\n",
            "Epoch 14/30\n",
            "129/129 [==============================] - ETA: 0s - loss: 0.0110 - accuracy: 0.9966 - precision: 0.9970 - recall: 0.9983\n",
            "Epoch 14: val_accuracy improved from 0.95915 to 0.96092, saving model to /content/drive/My Drive/Data Science/Naya/Projects/5 - Final/Data/1_best_model.h5\n",
            "129/129 [==============================] - 26s 202ms/step - loss: 0.0110 - accuracy: 0.9966 - precision: 0.9970 - recall: 0.9983 - val_loss: 0.1400 - val_accuracy: 0.9609 - val_precision: 0.9802 - val_recall: 0.9659 - lr: 0.0010\n",
            "Epoch 15/30\n",
            "129/129 [==============================] - ETA: 0s - loss: 0.0106 - accuracy: 0.9968 - precision: 0.9983 - recall: 0.9973\n",
            "Epoch 15: val_accuracy did not improve from 0.96092\n",
            "129/129 [==============================] - 25s 192ms/step - loss: 0.0106 - accuracy: 0.9968 - precision: 0.9983 - recall: 0.9973 - val_loss: 0.2378 - val_accuracy: 0.9378 - val_precision: 0.9896 - val_recall: 0.9246 - lr: 0.0010\n",
            "Epoch 16/30\n",
            "129/129 [==============================] - ETA: 0s - loss: 0.0107 - accuracy: 0.9964 - precision: 0.9973 - recall: 0.9977\n",
            "Epoch 16: val_accuracy did not improve from 0.96092\n",
            "129/129 [==============================] - 25s 193ms/step - loss: 0.0107 - accuracy: 0.9964 - precision: 0.9973 - recall: 0.9977 - val_loss: 0.2137 - val_accuracy: 0.9414 - val_precision: 0.9355 - val_recall: 0.9878 - lr: 0.0010\n",
            "Epoch 17/30\n",
            "129/129 [==============================] - ETA: 0s - loss: 0.0108 - accuracy: 0.9966 - precision: 0.9970 - recall: 0.9983\n",
            "Epoch 17: val_accuracy did not improve from 0.96092\n",
            "129/129 [==============================] - 25s 194ms/step - loss: 0.0108 - accuracy: 0.9966 - precision: 0.9970 - recall: 0.9983 - val_loss: 0.1491 - val_accuracy: 0.9556 - val_precision: 0.9825 - val_recall: 0.9562 - lr: 0.0010\n",
            "Epoch 18/30\n",
            "129/129 [==============================] - ETA: 0s - loss: 0.0128 - accuracy: 0.9949 - precision: 0.9957 - recall: 0.9973\n",
            "Epoch 18: val_accuracy did not improve from 0.96092\n",
            "129/129 [==============================] - 25s 194ms/step - loss: 0.0128 - accuracy: 0.9949 - precision: 0.9957 - recall: 0.9973 - val_loss: 0.1329 - val_accuracy: 0.9591 - val_precision: 0.9686 - val_recall: 0.9757 - lr: 0.0010\n",
            "Epoch 19/30\n",
            "129/129 [==============================] - ETA: 0s - loss: 0.0156 - accuracy: 0.9939 - precision: 0.9967 - recall: 0.9950\n",
            "Epoch 19: val_accuracy did not improve from 0.96092\n",
            "129/129 [==============================] - 25s 194ms/step - loss: 0.0156 - accuracy: 0.9939 - precision: 0.9967 - recall: 0.9950 - val_loss: 0.1654 - val_accuracy: 0.9538 - val_precision: 0.9594 - val_recall: 0.9781 - lr: 0.0010\n",
            "Epoch 20/30\n",
            "129/129 [==============================] - ETA: 0s - loss: 0.0067 - accuracy: 0.9988 - precision: 0.9990 - recall: 0.9993\n",
            "Epoch 20: val_accuracy did not improve from 0.96092\n",
            "129/129 [==============================] - 25s 196ms/step - loss: 0.0067 - accuracy: 0.9988 - precision: 0.9990 - recall: 0.9993 - val_loss: 0.2378 - val_accuracy: 0.9343 - val_precision: 0.9870 - val_recall: 0.9221 - lr: 0.0010\n",
            "Epoch 21/30\n",
            "129/129 [==============================] - ETA: 0s - loss: 0.0083 - accuracy: 0.9971 - precision: 0.9983 - recall: 0.9977\n",
            "Epoch 21: val_accuracy did not improve from 0.96092\n",
            "\n",
            "Epoch 21: ReduceLROnPlateau reducing learning rate to 0.00010000000474974513.\n",
            "129/129 [==============================] - 25s 195ms/step - loss: 0.0083 - accuracy: 0.9971 - precision: 0.9983 - recall: 0.9977 - val_loss: 0.2009 - val_accuracy: 0.9467 - val_precision: 0.9482 - val_recall: 0.9805 - lr: 0.0010\n",
            "Epoch 22/30\n",
            "129/129 [==============================] - ETA: 0s - loss: 0.0053 - accuracy: 0.9993 - precision: 0.9993 - recall: 0.9997\n",
            "Epoch 22: val_accuracy did not improve from 0.96092\n",
            "129/129 [==============================] - 25s 195ms/step - loss: 0.0053 - accuracy: 0.9993 - precision: 0.9993 - recall: 0.9997 - val_loss: 0.1641 - val_accuracy: 0.9574 - val_precision: 0.9778 - val_recall: 0.9635 - lr: 1.0000e-04\n",
            "Epoch 23/30\n",
            "129/129 [==============================] - ETA: 0s - loss: 0.0038 - accuracy: 0.9998 - precision: 1.0000 - recall: 0.9997\n",
            "Epoch 23: val_accuracy improved from 0.96092 to 0.96270, saving model to /content/drive/My Drive/Data Science/Naya/Projects/5 - Final/Data/1_best_model.h5\n",
            "129/129 [==============================] - 26s 204ms/step - loss: 0.0038 - accuracy: 0.9998 - precision: 1.0000 - recall: 0.9997 - val_loss: 0.1599 - val_accuracy: 0.9627 - val_precision: 0.9827 - val_recall: 0.9659 - lr: 1.0000e-04\n",
            "Epoch 24/30\n",
            "129/129 [==============================] - ETA: 0s - loss: 0.0072 - accuracy: 0.9976 - precision: 0.9980 - recall: 0.9987\n",
            "Epoch 24: val_accuracy did not improve from 0.96270\n",
            "129/129 [==============================] - 25s 194ms/step - loss: 0.0072 - accuracy: 0.9976 - precision: 0.9980 - recall: 0.9987 - val_loss: 0.1679 - val_accuracy: 0.9627 - val_precision: 0.9851 - val_recall: 0.9635 - lr: 1.0000e-04\n",
            "Epoch 25/30\n",
            "129/129 [==============================] - ETA: 0s - loss: 0.0051 - accuracy: 0.9988 - precision: 0.9993 - recall: 0.9990\n",
            "Epoch 25: val_accuracy did not improve from 0.96270\n",
            "129/129 [==============================] - 25s 195ms/step - loss: 0.0051 - accuracy: 0.9988 - precision: 0.9993 - recall: 0.9990 - val_loss: 0.1620 - val_accuracy: 0.9609 - val_precision: 0.9802 - val_recall: 0.9659 - lr: 1.0000e-04\n",
            "Epoch 26/30\n",
            "129/129 [==============================] - ETA: 0s - loss: 0.0021 - accuracy: 0.9998 - precision: 0.9997 - recall: 1.0000\n",
            "Epoch 26: val_accuracy did not improve from 0.96270\n",
            "129/129 [==============================] - 25s 195ms/step - loss: 0.0021 - accuracy: 0.9998 - precision: 0.9997 - recall: 1.0000 - val_loss: 0.1610 - val_accuracy: 0.9627 - val_precision: 0.9827 - val_recall: 0.9659 - lr: 1.0000e-04\n",
            "Epoch 27/30\n",
            "129/129 [==============================] - ETA: 0s - loss: 0.0035 - accuracy: 0.9990 - precision: 0.9993 - recall: 0.9993\n",
            "Epoch 27: val_accuracy did not improve from 0.96270\n",
            "129/129 [==============================] - 25s 195ms/step - loss: 0.0035 - accuracy: 0.9990 - precision: 0.9993 - recall: 0.9993 - val_loss: 0.1638 - val_accuracy: 0.9627 - val_precision: 0.9851 - val_recall: 0.9635 - lr: 1.0000e-04\n",
            "Epoch 28/30\n",
            "129/129 [==============================] - ETA: 0s - loss: 0.0022 - accuracy: 0.9998 - precision: 1.0000 - recall: 0.9997\n",
            "Epoch 28: val_accuracy did not improve from 0.96270\n",
            "129/129 [==============================] - 25s 195ms/step - loss: 0.0022 - accuracy: 0.9998 - precision: 1.0000 - recall: 0.9997 - val_loss: 0.1594 - val_accuracy: 0.9609 - val_precision: 0.9802 - val_recall: 0.9659 - lr: 1.0000e-04\n",
            "Epoch 29/30\n",
            "129/129 [==============================] - ETA: 0s - loss: 0.0025 - accuracy: 0.9995 - precision: 0.9997 - recall: 0.9997\n",
            "Epoch 29: val_accuracy did not improve from 0.96270\n",
            "129/129 [==============================] - 25s 195ms/step - loss: 0.0025 - accuracy: 0.9995 - precision: 0.9997 - recall: 0.9997 - val_loss: 0.1679 - val_accuracy: 0.9609 - val_precision: 0.9826 - val_recall: 0.9635 - lr: 1.0000e-04\n",
            "Epoch 30/30\n",
            "129/129 [==============================] - ETA: 0s - loss: 0.0026 - accuracy: 0.9995 - precision: 0.9997 - recall: 0.9997\n",
            "Epoch 30: val_accuracy did not improve from 0.96270\n",
            "129/129 [==============================] - 25s 197ms/step - loss: 0.0026 - accuracy: 0.9995 - precision: 0.9997 - recall: 0.9997 - val_loss: 0.1562 - val_accuracy: 0.9627 - val_precision: 0.9827 - val_recall: 0.9659 - lr: 1.0000e-04\n",
            "RUN HISTORY:\n",
            "\n",
            "dict_keys(['loss', 'accuracy', 'precision', 'recall', 'val_loss', 'val_accuracy', 'val_precision', 'val_recall', 'lr'])\n",
            "dict_values([[0.16284440457820892, 0.08186017721891403, 0.05215296521782875, 0.0538465641438961, 0.038696080446243286, 0.040678396821022034, 0.027308300137519836, 0.027140140533447266, 0.02474878914654255, 0.014602930285036564, 0.011734441854059696, 0.01841774210333824, 0.018327340483665466, 0.01098601520061493, 0.010618485510349274, 0.010674362070858479, 0.010798594914376736, 0.0128366369754076, 0.01563679240643978, 0.006658326834440231, 0.00832134298980236, 0.005284774582833052, 0.0038043614476919174, 0.007225160486996174, 0.005126400385051966, 0.0021155106369405985, 0.003548415144905448, 0.002232295460999012, 0.002479460323229432, 0.002610757714137435], [0.9393351078033447, 0.9703955054283142, 0.9805872440338135, 0.9801019430160522, 0.9856830835342407, 0.9847124218940735, 0.9898083209991455, 0.9902936220169067, 0.990778923034668, 0.9951468110084534, 0.9975733757019043, 0.9934481978416443, 0.9946615099906921, 0.9966027736663818, 0.9968454241752625, 0.9963601231575012, 0.9966027736663818, 0.9949041604995728, 0.9939334988594055, 0.9987866878509521, 0.9970880746841431, 0.9992720484733582, 0.9997573494911194, 0.9975733757019043, 0.9987866878509521, 0.9997573494911194, 0.9990293383598328, 0.9997573494911194, 0.9995146989822388, 0.9995146989822388], [0.9590409398078918, 0.9806731343269348, 0.9850845336914062, 0.9860419034957886, 0.989700973033905, 0.9887118339538574, 0.9940019845962524, 0.9936771988868713, 0.9923714995384216, 0.9960145950317383, 0.9983372092247009, 0.9946879148483276, 0.9963418841362, 0.9970109462738037, 0.9983355402946472, 0.9973404407501221, 0.9970109462738037, 0.9956839084625244, 0.9966688752174377, 0.9990026354789734, 0.9983360767364502, 0.9993351101875305, 1.0, 0.9980059862136841, 0.9993346929550171, 0.9996675252914429, 0.9993348717689514, 1.0, 0.9996674656867981, 0.9996674656867981], [0.9577652215957642, 0.9787163138389587, 0.9883604645729065, 0.9866977334022522, 0.9906883835792542, 0.9903558492660522, 0.9920186400413513, 0.9930163025856018, 0.9950116276741028, 0.9973395466804504, 0.9983372092247009, 0.9963418841362, 0.9963418841362, 0.9983372092247009, 0.9973395466804504, 0.9976720809936523, 0.9983372092247009, 0.9973395466804504, 0.9950116276741028, 0.9993348717689514, 0.9976720809936523, 0.9996674656867981, 0.9996674656867981, 0.9986697435379028, 0.9990023374557495, 1.0, 0.9993348717689514, 0.9996674656867981, 0.9996674656867981, 0.9996674656867981], [0.27613240480422974, 0.13989873230457306, 0.1395258605480194, 0.15536510944366455, 0.14463865756988525, 0.27533718943595886, 0.27588772773742676, 0.3807271718978882, 0.24287007749080658, 0.1401417851448059, 0.13164950907230377, 0.18406309187412262, 0.13201911747455597, 0.13998235762119293, 0.2377675473690033, 0.21371009945869446, 0.14911194145679474, 0.1328810751438141, 0.16543875634670258, 0.23779164254665375, 0.2008575201034546, 0.16407519578933716, 0.15987706184387207, 0.1679377257823944, 0.16196498274803162, 0.16098915040493011, 0.16384780406951904, 0.15938019752502441, 0.16792215406894684, 0.15619197487831116], [0.9094138741493225, 0.9520426392555237, 0.9449378252029419, 0.9467140436172485, 0.950266420841217, 0.9236234426498413, 0.9200710654258728, 0.9023090600967407, 0.9396092295646667, 0.9591474533081055, 0.9538187980651855, 0.9467140436172485, 0.9573712348937988, 0.9609236121177673, 0.9378330111503601, 0.9413854479789734, 0.9555950164794922, 0.9591474533081055, 0.9538187980651855, 0.9342806339263916, 0.9467140436172485, 0.9573712348937988, 0.962699830532074, 0.962699830532074, 0.9609236121177673, 0.962699830532074, 0.962699830532074, 0.9609236121177673, 0.9609236121177673, 0.962699830532074], [0.989130437374115, 0.9848484992980957, 0.9773869514465332, 0.9872123003005981, 0.9484777450561523, 0.9946236610412598, 0.9030836820602417, 0.8836206793785095, 0.9947506785392761, 0.9801980257034302, 0.9706601500511169, 0.9612590670585632, 0.9754299521446228, 0.980246901512146, 0.9895833134651184, 0.9354838728904724, 0.9825000166893005, 0.9685990214347839, 0.9594271779060364, 0.9869791865348816, 0.948235273361206, 0.9777777791023254, 0.9826732873916626, 0.9850746393203735, 0.980246901512146, 0.9826732873916626, 0.9850746393203735, 0.980246901512146, 0.9826302528381348, 0.9826732873916626], [0.885644793510437, 0.9489051103591919, 0.9464720487594604, 0.9391727447509766, 0.985401451587677, 0.9002432823181152, 0.9975669384002686, 0.9975669384002686, 0.9221411347389221, 0.9635036587715149, 0.9659367203712463, 0.9659367203712463, 0.9659367203712463, 0.9659367203712463, 0.9245741963386536, 0.9878345727920532, 0.956204354763031, 0.9756690859794617, 0.9781022071838379, 0.9221411347389221, 0.9805352687835693, 0.9635036587715149, 0.9659367203712463, 0.9635036587715149, 0.9659367203712463, 0.9659367203712463, 0.9635036587715149, 0.9659367203712463, 0.9635036587715149, 0.9659367203712463], [0.001, 0.001, 0.001, 0.001, 0.001, 0.001, 0.001, 0.001, 0.001, 0.001, 0.001, 0.001, 0.001, 0.001, 0.001, 0.001, 0.001, 0.001, 0.001, 0.001, 0.001, 0.000100000005, 0.000100000005, 0.000100000005, 0.000100000005, 0.000100000005, 0.000100000005, 0.000100000005, 0.000100000005, 0.000100000005]])\n"
          ]
        }
      ]
    },
    {
      "cell_type": "code",
      "source": [
        "# After the run the saved models are loaded to predict the test accuracy and loss every 10th epoch \n",
        "for i in range(10, num_epochs+1, 10):\n",
        "  final_model = load_model(f'{model_file_prefix}_epoch_{i:03d}.h5')\n",
        "  scores = final_model.evaluate(X_test,y_test)\n",
        "  history_test['test_loss'].append(scores[0])\n",
        "  history_test['test_accuracy'].append(scores[1])\n",
        "  history_test['test_precision'].append(scores[2])\n",
        "  history_test['test_recall'].append(scores[3])"
      ],
      "metadata": {
        "colab": {
          "base_uri": "https://localhost:8080/"
        },
        "id": "4Gmgnf18Jag_",
        "outputId": "307ea9b4-ff26-4e7d-dfcc-ee258ae9d739"
      },
      "execution_count": null,
      "outputs": [
        {
          "output_type": "stream",
          "name": "stdout",
          "text": [
            "37/37 [==============================] - 7s 192ms/step - loss: 0.1321 - accuracy: 0.9599 - precision: 0.9676 - recall: 0.9778\n",
            "37/37 [==============================] - 6s 149ms/step - loss: 0.1748 - accuracy: 0.9522 - precision: 0.9914 - recall: 0.9427\n",
            "37/37 [==============================] - 6s 150ms/step - loss: 0.1314 - accuracy: 0.9642 - precision: 0.9646 - recall: 0.9871\n"
          ]
        }
      ]
    },
    {
      "cell_type": "code",
      "source": [
        "plot_data = {}\n",
        "\n",
        "plot_data_keys = list(history.history.keys())\n",
        "plot_data_values = list(history.history.values())\n",
        "\n",
        "for i in range(len(plot_data_keys)):\n",
        "  plot_data[plot_data_keys[i]] = plot_data_values[i]\n",
        "  \n",
        "# best model predictions\n",
        "final_model = load_model(model_file_prefix + '_best_model.h5')\n",
        "scores = final_model.evaluate(X_test,y_test)\n",
        "print(scores)\n",
        "\n",
        "best_epic_number = 23\n",
        "# will be used in the plot !!!"
      ],
      "metadata": {
        "id": "KyejtHjwMGK5"
      },
      "execution_count": null,
      "outputs": []
    },
    {
      "cell_type": "code",
      "source": [
        "def f1(precision, recall):\n",
        "  return 2 / ((1/precision) + (1/recall))\n",
        "\n",
        "# f1 score of best model:\n",
        "f1(0.9635, 0.9871)"
      ],
      "metadata": {
        "colab": {
          "base_uri": "https://localhost:8080/"
        },
        "id": "muq6Gzqw8vfx",
        "outputId": "687d42e1-ad6f-44b4-93aa-dc37759b31fa"
      },
      "execution_count": null,
      "outputs": [
        {
          "output_type": "execute_result",
          "data": {
            "text/plain": [
              "0.9751572336716908"
            ]
          },
          "metadata": {},
          "execution_count": 30
        }
      ]
    },
    {
      "cell_type": "code",
      "execution_count": null,
      "metadata": {
        "id": "EHYcZeu8j-mM",
        "colab": {
          "base_uri": "https://localhost:8080/",
          "height": 1000
        },
        "outputId": "15af3b1a-4bed-44cb-fe0b-6aa7f292ce02"
      },
      "outputs": [
        {
          "output_type": "display_data",
          "data": {
            "text/plain": [
              "<Figure size 720x504 with 1 Axes>"
            ],
            "image/png": "[encoded data removed]"
          },
          "metadata": {
            "needs_background": "light"
          }
        },
        {
          "output_type": "display_data",
          "data": {
            "text/plain": [
              "<Figure size 720x504 with 1 Axes>"
            ],
            "image/png": "[encoded data removed]"
          },
          "metadata": {
            "needs_background": "light"
          }
        },
        {
          "output_type": "display_data",
          "data": {
            "text/plain": [
              "<Figure size 720x504 with 1 Axes>"
            ],
            "image/png": "[encoded data removed]"
          },
          "metadata": {
            "needs_background": "light"
          }
        }
      ],
      "source": [
        "num_of_x_values = len(plot_data_values[0])\n",
        "\n",
        "# summarize history for accuracy\n",
        "fig = plt.figure(figsize = (10, 7))\n",
        "plt.plot(np.arange(1,num_of_x_values+1), plot_data['accuracy'])\n",
        "plt.plot(np.arange(1,num_of_x_values+1), plot_data['val_accuracy'])\n",
        "plt.scatter(np.arange(10,num_of_x_values+1, 10), history_test['test_accuracy'], s=50, color='green')\n",
        "plt.scatter([best_epic_number], scores[1], s=50, color='green', marker='x')\n",
        "\n",
        "plt.title('Accuracy per Epoch')\n",
        "plt.ylabel('Accuracy')\n",
        "plt.xlabel('Epoch')\n",
        "plt.xticks(np.arange(0,num_of_x_values+1,10))\n",
        "\n",
        "plt.legend(['train', 'validation', 'test', 'best'], loc='lower right')\n",
        "plt.ylim([0.8,1])\n",
        "\n",
        "plt.show()\n",
        "\n",
        "# summarize history for loss\n",
        "fig = plt.figure(figsize = (10, 7))\n",
        "plt.plot(np.arange(1,num_of_x_values+1), plot_data['loss'])\n",
        "plt.plot(np.arange(1,num_of_x_values+1), plot_data['val_loss'])\n",
        "plt.scatter(np.arange(10,num_of_x_values+1, 10), history_test['test_loss'], s=50, color='green')\n",
        "plt.scatter([best_epic_number], scores[0], s=50, color='green', marker='x')\n",
        "\n",
        "plt.title('Loss per Epoch')\n",
        "plt.ylabel('MSE')\n",
        "plt.xlabel('Epoch')\n",
        "#plt.xticks(np.arange(1,len(history.epoch)+1))\n",
        "plt.xticks(np.arange(0,num_of_x_values+1,10))\n",
        "plt.legend(['train', 'validation', 'test', 'best'], loc='upper right')\n",
        "plt.ylim([0,0.5])\n",
        "\n",
        "plt.show()\n",
        "\n",
        "\n",
        "# f1\n",
        "plot_data['f1'] = f1(np.array(plot_data['precision']),np.array(plot_data['recall']))\n",
        "plot_data['val_f1'] = f1(np.array(plot_data['val_precision']),np.array(plot_data['val_recall']))\n",
        "plot_data['test_f1'] = f1(np.array(history_test['test_precision']),np.array(history_test['test_recall']))\n",
        "\n",
        "fig = plt.figure(figsize = (10, 7))\n",
        "plt.plot(np.arange(1,num_of_x_values+1), plot_data['f1'])\n",
        "plt.plot(np.arange(1,num_of_x_values+1), plot_data['val_f1'])\n",
        "plt.scatter(np.arange(10,num_of_x_values+1, 10), plot_data['test_f1'], s=50, color='green')\n",
        "plt.scatter([best_epic_number], f1(scores[2], scores[3]), s=50, color='green', marker='x')\n",
        "\n",
        "plt.title('F1-Score per Epoch')\n",
        "plt.ylabel('F1')\n",
        "plt.xlabel('Epoch')\n",
        "#plt.xticks(np.arange(1,len(history.epoch)+1))\n",
        "plt.xticks(np.arange(0,num_of_x_values+1,10))\n",
        "plt.legend(['train', 'validation', 'test', 'best'], loc='lower right')\n",
        "plt.ylim([0.8,1.0])\n",
        "\n",
        "plt.show()\n"
      ]
    },
    {
      "cell_type": "markdown",
      "source": [
        "Accuracy is high and we choose not to train the VGG layers. \n",
        "\n",
        "Therefore it is actually Fine Tuning and not Transfer Learning."
      ],
      "metadata": {
        "id": "wSbKakW254uT"
      }
    },
    {
      "cell_type": "markdown",
      "source": [
        "# Transfer Learning Model - Xception"
      ],
      "metadata": {
        "id": "3-UEBY6y5xsj"
      }
    },
    {
      "cell_type": "markdown",
      "source": [
        "## Reload X, split and scale"
      ],
      "metadata": {
        "id": "uUi_kFn67Iuj"
      }
    },
    {
      "cell_type": "code",
      "source": [
        "with open(f\"{DATA_FOLDER_PATH}/X_200_200_raw.pkl\", 'rb') as f:\n",
        "    X = pickle.load(f)"
      ],
      "metadata": {
        "id": "1m3byX_96kaV"
      },
      "execution_count": null,
      "outputs": []
    },
    {
      "cell_type": "code",
      "source": [
        "# expand from grayscale to 3 channels\n",
        "X = np.expand_dims(X, -1)\n",
        "X = X.repeat(3, axis=-1)\n",
        "X.shape"
      ],
      "metadata": {
        "colab": {
          "base_uri": "https://localhost:8080/"
        },
        "id": "rX07_lCM6-a6",
        "outputId": "aff27820-5021-47d4-bfc9-05d8c7949a5a"
      },
      "execution_count": null,
      "outputs": [
        {
          "output_type": "execute_result",
          "data": {
            "text/plain": [
              "(5856, 200, 200, 3)"
            ]
          },
          "metadata": {},
          "execution_count": 39
        }
      ]
    },
    {
      "cell_type": "code",
      "source": [
        "#y = np.array(df['label'])\n",
        "\n",
        "# Split: 70% train, 10% validation, 20% test\n",
        "X_temp, X_test, y_temp, y_test = train_test_split(X, y, test_size=0.2, random_state=RANDOM_STATE, stratify=y)\n",
        "X_train, X_valid, y_train, y_valid = train_test_split(X_temp, y_temp, test_size=0.12, random_state=RANDOM_STATE, stratify=y_temp)\n",
        "\n",
        "print(f'Train: {X_train.shape}', f'Validation: {X_valid.shape}', f'Test: {X_test.shape}', sep=\"\\n\")"
      ],
      "metadata": {
        "colab": {
          "base_uri": "https://localhost:8080/"
        },
        "id": "Zoc_Cb1R7CRJ",
        "outputId": "564e364e-067d-403f-edc3-9402049e7ab1"
      },
      "execution_count": null,
      "outputs": [
        {
          "output_type": "stream",
          "name": "stdout",
          "text": [
            "Train: (4121, 200, 200, 3)\n",
            "Validation: (563, 200, 200, 3)\n",
            "Test: (1172, 200, 200, 3)\n"
          ]
        }
      ]
    },
    {
      "cell_type": "code",
      "source": [
        "# Xception weights requires that input be scaled from (0, 255) to a range of (-1., +1.)\n",
        "X_test = X_test / 127.5 - 1.\n",
        "X_valid = X_valid / 127.5 - 1.\n",
        "X_train = X_train / 127.5 - 1."
      ],
      "metadata": {
        "id": "N5Xap80Z6N_k"
      },
      "execution_count": null,
      "outputs": []
    },
    {
      "cell_type": "code",
      "source": [
        "run_number = 2\n",
        "\n",
        "num_epochs = 30\n",
        "learning_rate = 1 * 1e-3\n",
        "early_stopping_patience = 4\n",
        "early_stopping_min_delta = 0.003\n",
        "batch_size = 32\n",
        "\n",
        "optimizer = Adam(learning_rate=learning_rate) \n",
        "\n",
        "model_file_prefix = f'{DATA_FOLDER_PATH}/{run_number}' \n",
        "\n",
        "# callback 1: early stopping (for short runs)\n",
        "es = EarlyStopping(monitor='val_loss', patience=early_stopping_patience, min_delta=early_stopping_min_delta, verbose=1)\n",
        "\n",
        "# callback 2: model checkpoint\n",
        "cp = ModelCheckpoint(filepath=model_file_prefix + '_best_model.h5', mode='max', monitor='val_accuracy', save_best_only=True, verbose=1)\n",
        "\n",
        "# callback 3: reduce learning rate on plateau. all values are default except verbose.\n",
        "reduce_lr = ReduceLROnPlateau(monitor=\"val_loss\",\n",
        "                              factor=0.1,\n",
        "                              patience=10,\n",
        "                              verbose=1,\n",
        "                              mode=\"auto\",\n",
        "                              min_delta=0.0001,\n",
        "                              cooldown=0,\n",
        "                              min_lr=0\n",
        "                              )\n",
        "\n",
        "# For fitting few times in a sequence, use validation_data = (X_valid, y_valid), otherwise use validation_split. Here I use it like that for control and debugging\n",
        "validation_data = (X_valid, y_valid)\n",
        "\n",
        "input_shape= [input_size[0], input_size[1], 3]\n",
        "\n",
        "# include_top=False --> get the outputs of the convolution layers, before the FC layers\n",
        "base_model = Xception(input_shape=input_shape, weights='imagenet', include_top=False)\n",
        "\n",
        "base_model.trainable = False\n",
        "\n",
        "inputs = Input(shape=input_shape)\n",
        "\n",
        "o = base_model(inputs, training=False)\n",
        "o = GlobalAveragePooling2D()(o)\n",
        "o = Dense(512)(o)\n",
        "o = BatchNormalization()(o)\n",
        "o = Activation('relu')(o)\n",
        "o = Dropout(rate=0.3, seed=RANDOM_STATE)(o)\n",
        "\n",
        "predictions = Dense(1, activation='sigmoid')(o)\n",
        "model = Model(inputs=inputs, outputs=predictions)\n",
        "\n",
        "model.compile(optimizer=optimizer,  loss='binary_crossentropy', metrics=['accuracy', Precision(), Recall()])"
      ],
      "metadata": {
        "colab": {
          "base_uri": "https://localhost:8080/"
        },
        "id": "i8MdxdEE7v4H",
        "outputId": "e5347999-b605-46ee-ff68-fe09fd04b774"
      },
      "execution_count": null,
      "outputs": [
        {
          "output_type": "stream",
          "name": "stdout",
          "text": [
            "Downloading data from https://storage.googleapis.com/tensorflow/keras-applications/xception/xception_weights_tf_dim_ordering_tf_kernels_notop.h5\n",
            "83683744/83683744 [==============================] - 4s 0us/step\n"
          ]
        }
      ]
    },
    {
      "cell_type": "code",
      "source": [
        "model.summary()"
      ],
      "metadata": {
        "colab": {
          "base_uri": "https://localhost:8080/"
        },
        "id": "JQlM6i9p8Xhx",
        "outputId": "c59f8763-57c6-4414-8087-d760c87240b5"
      },
      "execution_count": null,
      "outputs": [
        {
          "output_type": "stream",
          "name": "stdout",
          "text": [
            "Model: \"model_1\"\n",
            "_________________________________________________________________\n",
            " Layer (type)                Output Shape              Param #   \n",
            "=================================================================\n",
            " input_4 (InputLayer)        [(None, 200, 200, 3)]     0         \n",
            "                                                                 \n",
            " xception (Functional)       (None, 7, 7, 2048)        20861480  \n",
            "                                                                 \n",
            " global_average_pooling2d_1   (None, 2048)             0         \n",
            " (GlobalAveragePooling2D)                                        \n",
            "                                                                 \n",
            " dense_2 (Dense)             (None, 512)               1049088   \n",
            "                                                                 \n",
            " batch_normalization_5 (Batc  (None, 512)              2048      \n",
            " hNormalization)                                                 \n",
            "                                                                 \n",
            " activation_1 (Activation)   (None, 512)               0         \n",
            "                                                                 \n",
            " dropout_1 (Dropout)         (None, 512)               0         \n",
            "                                                                 \n",
            " dense_3 (Dense)             (None, 1)                 513       \n",
            "                                                                 \n",
            "=================================================================\n",
            "Total params: 21,913,129\n",
            "Trainable params: 1,050,625\n",
            "Non-trainable params: 20,862,504\n",
            "_________________________________________________________________\n"
          ]
        }
      ]
    },
    {
      "cell_type": "code",
      "source": [
        "# I used a callback that saves the model every 10 epochs. I calculate the test loss and accuracy on these checkpoints after the run is finished.\n",
        "history = model.fit(x=X_train, y=y_train, batch_size=batch_size, epochs=num_epochs, validation_data=validation_data, callbacks=[cp, reduce_lr, EpochModelCheckpoint(model_file_prefix + '_epoch_{epoch:03d}.h5', frequency=10)])\n",
        "\n",
        "# print all the run history, that can be used later on for the graphs\n",
        "print(\"RUN HISTORY:\\n\")\n",
        "print(history.history.keys())\n",
        "print(history.history.values())"
      ],
      "metadata": {
        "colab": {
          "base_uri": "https://localhost:8080/"
        },
        "id": "MJ9IHBhu8aIo",
        "outputId": "77ccb581-cede-465c-ec36-5588eae366f8"
      },
      "execution_count": null,
      "outputs": [
        {
          "output_type": "stream",
          "name": "stdout",
          "text": [
            "Epoch 1/30\n",
            "129/129 [==============================] - ETA: 0s - loss: 0.2031 - accuracy: 0.9257 - precision_1: 0.9543 - recall_1: 0.9435\n",
            "Epoch 1: val_accuracy improved from -inf to 0.92185, saving model to /content/drive/My Drive/Data Science/Naya/Projects/5 - Final/Data/2_best_model.h5\n",
            "129/129 [==============================] - 25s 166ms/step - loss: 0.2031 - accuracy: 0.9257 - precision_1: 0.9543 - recall_1: 0.9435 - val_loss: 0.1873 - val_accuracy: 0.9218 - val_precision_1: 0.9646 - val_recall_1: 0.9270 - lr: 0.0010\n",
            "Epoch 2/30\n",
            "129/129 [==============================] - ETA: 0s - loss: 0.1148 - accuracy: 0.9580 - precision_1: 0.9670 - recall_1: 0.9757\n",
            "Epoch 2: val_accuracy improved from 0.92185 to 0.93073, saving model to /content/drive/My Drive/Data Science/Naya/Projects/5 - Final/Data/2_best_model.h5\n",
            "129/129 [==============================] - 17s 129ms/step - loss: 0.1148 - accuracy: 0.9580 - precision_1: 0.9670 - recall_1: 0.9757 - val_loss: 0.1566 - val_accuracy: 0.9307 - val_precision_1: 0.9366 - val_recall_1: 0.9708 - lr: 0.0010\n",
            "Epoch 3/30\n",
            "129/129 [==============================] - ETA: 0s - loss: 0.0844 - accuracy: 0.9689 - precision_1: 0.9784 - recall_1: 0.9790\n",
            "Epoch 3: val_accuracy improved from 0.93073 to 0.93250, saving model to /content/drive/My Drive/Data Science/Naya/Projects/5 - Final/Data/2_best_model.h5\n",
            "129/129 [==============================] - 17s 133ms/step - loss: 0.0844 - accuracy: 0.9689 - precision_1: 0.9784 - recall_1: 0.9790 - val_loss: 0.1748 - val_accuracy: 0.9325 - val_precision_1: 0.9698 - val_recall_1: 0.9367 - lr: 0.0010\n",
            "Epoch 4/30\n",
            "129/129 [==============================] - ETA: 0s - loss: 0.0743 - accuracy: 0.9714 - precision_1: 0.9788 - recall_1: 0.9820\n",
            "Epoch 4: val_accuracy improved from 0.93250 to 0.94316, saving model to /content/drive/My Drive/Data Science/Naya/Projects/5 - Final/Data/2_best_model.h5\n",
            "129/129 [==============================] - 17s 133ms/step - loss: 0.0743 - accuracy: 0.9714 - precision_1: 0.9788 - recall_1: 0.9820 - val_loss: 0.1573 - val_accuracy: 0.9432 - val_precision_1: 0.9702 - val_recall_1: 0.9513 - lr: 0.0010\n",
            "Epoch 5/30\n",
            "129/129 [==============================] - ETA: 0s - loss: 0.0676 - accuracy: 0.9769 - precision_1: 0.9847 - recall_1: 0.9837\n",
            "Epoch 5: val_accuracy improved from 0.94316 to 0.94494, saving model to /content/drive/My Drive/Data Science/Naya/Projects/5 - Final/Data/2_best_model.h5\n",
            "129/129 [==============================] - 17s 135ms/step - loss: 0.0676 - accuracy: 0.9769 - precision_1: 0.9847 - recall_1: 0.9837 - val_loss: 0.1502 - val_accuracy: 0.9449 - val_precision_1: 0.9634 - val_recall_1: 0.9611 - lr: 0.0010\n",
            "Epoch 6/30\n",
            "129/129 [==============================] - ETA: 0s - loss: 0.0591 - accuracy: 0.9803 - precision_1: 0.9844 - recall_1: 0.9887\n",
            "Epoch 6: val_accuracy improved from 0.94494 to 0.94849, saving model to /content/drive/My Drive/Data Science/Naya/Projects/5 - Final/Data/2_best_model.h5\n",
            "129/129 [==============================] - 17s 135ms/step - loss: 0.0591 - accuracy: 0.9803 - precision_1: 0.9844 - recall_1: 0.9887 - val_loss: 0.1476 - val_accuracy: 0.9485 - val_precision_1: 0.9728 - val_recall_1: 0.9562 - lr: 0.0010\n",
            "Epoch 7/30\n",
            "129/129 [==============================] - ETA: 0s - loss: 0.0418 - accuracy: 0.9876 - precision_1: 0.9904 - recall_1: 0.9927\n",
            "Epoch 7: val_accuracy did not improve from 0.94849\n",
            "129/129 [==============================] - 16s 124ms/step - loss: 0.0418 - accuracy: 0.9876 - precision_1: 0.9904 - recall_1: 0.9927 - val_loss: 0.1772 - val_accuracy: 0.9432 - val_precision_1: 0.9566 - val_recall_1: 0.9659 - lr: 0.0010\n",
            "Epoch 8/30\n",
            "129/129 [==============================] - ETA: 0s - loss: 0.0388 - accuracy: 0.9874 - precision_1: 0.9910 - recall_1: 0.9917\n",
            "Epoch 8: val_accuracy did not improve from 0.94849\n",
            "129/129 [==============================] - 16s 125ms/step - loss: 0.0388 - accuracy: 0.9874 - precision_1: 0.9910 - recall_1: 0.9917 - val_loss: 0.1829 - val_accuracy: 0.9414 - val_precision_1: 0.9773 - val_recall_1: 0.9416 - lr: 0.0010\n",
            "Epoch 9/30\n",
            "129/129 [==============================] - ETA: 0s - loss: 0.0362 - accuracy: 0.9884 - precision_1: 0.9920 - recall_1: 0.9920\n",
            "Epoch 9: val_accuracy did not improve from 0.94849\n",
            "129/129 [==============================] - 16s 126ms/step - loss: 0.0362 - accuracy: 0.9884 - precision_1: 0.9920 - recall_1: 0.9920 - val_loss: 0.1965 - val_accuracy: 0.9432 - val_precision_1: 0.9397 - val_recall_1: 0.9854 - lr: 0.0010\n",
            "Epoch 10/30\n",
            "129/129 [==============================] - ETA: 0s - loss: 0.0399 - accuracy: 0.9859 - precision_1: 0.9900 - recall_1: 0.9907\n",
            "Epoch 10: val_accuracy did not improve from 0.94849\n",
            "129/129 [==============================] - 20s 156ms/step - loss: 0.0399 - accuracy: 0.9859 - precision_1: 0.9900 - recall_1: 0.9907 - val_loss: 0.1822 - val_accuracy: 0.9414 - val_precision_1: 0.9678 - val_recall_1: 0.9513 - lr: 0.0010\n",
            "Epoch 11/30\n",
            "129/129 [==============================] - ETA: 0s - loss: 0.0287 - accuracy: 0.9901 - precision_1: 0.9943 - recall_1: 0.9920\n",
            "Epoch 11: val_accuracy did not improve from 0.94849\n",
            "129/129 [==============================] - 16s 127ms/step - loss: 0.0287 - accuracy: 0.9901 - precision_1: 0.9943 - recall_1: 0.9920 - val_loss: 0.1998 - val_accuracy: 0.9378 - val_precision_1: 0.9563 - val_recall_1: 0.9586 - lr: 0.0010\n",
            "Epoch 12/30\n",
            "129/129 [==============================] - ETA: 0s - loss: 0.0302 - accuracy: 0.9886 - precision_1: 0.9917 - recall_1: 0.9927\n",
            "Epoch 12: val_accuracy did not improve from 0.94849\n",
            "129/129 [==============================] - 16s 127ms/step - loss: 0.0302 - accuracy: 0.9886 - precision_1: 0.9917 - recall_1: 0.9927 - val_loss: 0.1952 - val_accuracy: 0.9361 - val_precision_1: 0.9676 - val_recall_1: 0.9440 - lr: 0.0010\n",
            "Epoch 13/30\n",
            "129/129 [==============================] - ETA: 0s - loss: 0.0232 - accuracy: 0.9927 - precision_1: 0.9944 - recall_1: 0.9957\n",
            "Epoch 13: val_accuracy did not improve from 0.94849\n",
            "129/129 [==============================] - 16s 127ms/step - loss: 0.0232 - accuracy: 0.9927 - precision_1: 0.9944 - recall_1: 0.9957 - val_loss: 0.1994 - val_accuracy: 0.9432 - val_precision_1: 0.9656 - val_recall_1: 0.9562 - lr: 0.0010\n",
            "Epoch 14/30\n",
            "129/129 [==============================] - ETA: 0s - loss: 0.0305 - accuracy: 0.9898 - precision_1: 0.9930 - recall_1: 0.9930\n",
            "Epoch 14: val_accuracy did not improve from 0.94849\n",
            "129/129 [==============================] - 17s 128ms/step - loss: 0.0305 - accuracy: 0.9898 - precision_1: 0.9930 - recall_1: 0.9930 - val_loss: 0.2541 - val_accuracy: 0.9236 - val_precision_1: 0.9842 - val_recall_1: 0.9100 - lr: 0.0010\n",
            "Epoch 15/30\n",
            "129/129 [==============================] - ETA: 0s - loss: 0.0240 - accuracy: 0.9915 - precision_1: 0.9927 - recall_1: 0.9957\n",
            "Epoch 15: val_accuracy did not improve from 0.94849\n",
            "129/129 [==============================] - 17s 129ms/step - loss: 0.0240 - accuracy: 0.9915 - precision_1: 0.9927 - recall_1: 0.9957 - val_loss: 0.2154 - val_accuracy: 0.9467 - val_precision_1: 0.9482 - val_recall_1: 0.9805 - lr: 0.0010\n",
            "Epoch 16/30\n",
            "129/129 [==============================] - ETA: 0s - loss: 0.0217 - accuracy: 0.9937 - precision_1: 0.9967 - recall_1: 0.9947\n",
            "Epoch 16: val_accuracy did not improve from 0.94849\n",
            "\n",
            "Epoch 16: ReduceLROnPlateau reducing learning rate to 0.00010000000474974513.\n",
            "129/129 [==============================] - 17s 129ms/step - loss: 0.0217 - accuracy: 0.9937 - precision_1: 0.9967 - recall_1: 0.9947 - val_loss: 0.2149 - val_accuracy: 0.9449 - val_precision_1: 0.9657 - val_recall_1: 0.9586 - lr: 0.0010\n",
            "Epoch 17/30\n",
            "129/129 [==============================] - ETA: 0s - loss: 0.0149 - accuracy: 0.9954 - precision_1: 0.9970 - recall_1: 0.9967\n",
            "Epoch 17: val_accuracy did not improve from 0.94849\n",
            "129/129 [==============================] - 17s 130ms/step - loss: 0.0149 - accuracy: 0.9954 - precision_1: 0.9970 - recall_1: 0.9967 - val_loss: 0.1969 - val_accuracy: 0.9467 - val_precision_1: 0.9704 - val_recall_1: 0.9562 - lr: 1.0000e-04\n",
            "Epoch 18/30\n",
            "129/129 [==============================] - ETA: 0s - loss: 0.0086 - accuracy: 0.9981 - precision_1: 0.9983 - recall_1: 0.9990\n",
            "Epoch 18: val_accuracy did not improve from 0.94849\n",
            "129/129 [==============================] - 17s 131ms/step - loss: 0.0086 - accuracy: 0.9981 - precision_1: 0.9983 - recall_1: 0.9990 - val_loss: 0.1853 - val_accuracy: 0.9467 - val_precision_1: 0.9704 - val_recall_1: 0.9562 - lr: 1.0000e-04\n",
            "Epoch 19/30\n",
            "129/129 [==============================] - ETA: 0s - loss: 0.0094 - accuracy: 0.9976 - precision_1: 0.9977 - recall_1: 0.9990\n",
            "Epoch 19: val_accuracy did not improve from 0.94849\n",
            "129/129 [==============================] - 17s 131ms/step - loss: 0.0094 - accuracy: 0.9976 - precision_1: 0.9977 - recall_1: 0.9990 - val_loss: 0.1841 - val_accuracy: 0.9467 - val_precision_1: 0.9704 - val_recall_1: 0.9562 - lr: 1.0000e-04\n",
            "Epoch 20/30\n",
            "129/129 [==============================] - ETA: 0s - loss: 0.0078 - accuracy: 0.9988 - precision_1: 0.9990 - recall_1: 0.9993\n",
            "Epoch 20: val_accuracy did not improve from 0.94849\n",
            "129/129 [==============================] - 20s 158ms/step - loss: 0.0078 - accuracy: 0.9988 - precision_1: 0.9990 - recall_1: 0.9993 - val_loss: 0.1847 - val_accuracy: 0.9467 - val_precision_1: 0.9704 - val_recall_1: 0.9562 - lr: 1.0000e-04\n",
            "Epoch 21/30\n",
            "129/129 [==============================] - ETA: 0s - loss: 0.0073 - accuracy: 0.9988 - precision_1: 0.9993 - recall_1: 0.9990\n",
            "Epoch 21: val_accuracy did not improve from 0.94849\n",
            "129/129 [==============================] - 17s 131ms/step - loss: 0.0073 - accuracy: 0.9988 - precision_1: 0.9993 - recall_1: 0.9990 - val_loss: 0.1806 - val_accuracy: 0.9467 - val_precision_1: 0.9704 - val_recall_1: 0.9562 - lr: 1.0000e-04\n",
            "Epoch 22/30\n",
            "129/129 [==============================] - ETA: 0s - loss: 0.0086 - accuracy: 0.9981 - precision_1: 0.9980 - recall_1: 0.9993\n",
            "Epoch 22: val_accuracy improved from 0.94849 to 0.95027, saving model to /content/drive/My Drive/Data Science/Naya/Projects/5 - Final/Data/2_best_model.h5\n",
            "129/129 [==============================] - 18s 143ms/step - loss: 0.0086 - accuracy: 0.9981 - precision_1: 0.9980 - recall_1: 0.9993 - val_loss: 0.1805 - val_accuracy: 0.9503 - val_precision_1: 0.9728 - val_recall_1: 0.9586 - lr: 1.0000e-04\n",
            "Epoch 23/30\n",
            "129/129 [==============================] - ETA: 0s - loss: 0.0066 - accuracy: 0.9988 - precision_1: 0.9987 - recall_1: 0.9997\n",
            "Epoch 23: val_accuracy did not improve from 0.95027\n",
            "129/129 [==============================] - 17s 132ms/step - loss: 0.0066 - accuracy: 0.9988 - precision_1: 0.9987 - recall_1: 0.9997 - val_loss: 0.1868 - val_accuracy: 0.9467 - val_precision_1: 0.9704 - val_recall_1: 0.9562 - lr: 1.0000e-04\n",
            "Epoch 24/30\n",
            "129/129 [==============================] - ETA: 0s - loss: 0.0049 - accuracy: 0.9985 - precision_1: 0.9993 - recall_1: 0.9987\n",
            "Epoch 24: val_accuracy did not improve from 0.95027\n",
            "129/129 [==============================] - 17s 132ms/step - loss: 0.0049 - accuracy: 0.9985 - precision_1: 0.9993 - recall_1: 0.9987 - val_loss: 0.1827 - val_accuracy: 0.9467 - val_precision_1: 0.9704 - val_recall_1: 0.9562 - lr: 1.0000e-04\n",
            "Epoch 25/30\n",
            "129/129 [==============================] - ETA: 0s - loss: 0.0064 - accuracy: 0.9990 - precision_1: 0.9990 - recall_1: 0.9997\n",
            "Epoch 25: val_accuracy did not improve from 0.95027\n",
            "129/129 [==============================] - 17s 132ms/step - loss: 0.0064 - accuracy: 0.9990 - precision_1: 0.9990 - recall_1: 0.9997 - val_loss: 0.1873 - val_accuracy: 0.9449 - val_precision_1: 0.9703 - val_recall_1: 0.9538 - lr: 1.0000e-04\n",
            "Epoch 26/30\n",
            "129/129 [==============================] - ETA: 0s - loss: 0.0060 - accuracy: 0.9988 - precision_1: 0.9987 - recall_1: 0.9997\n",
            "Epoch 26: val_accuracy did not improve from 0.95027\n",
            "\n",
            "Epoch 26: ReduceLROnPlateau reducing learning rate to 1.0000000474974514e-05.\n",
            "129/129 [==============================] - 17s 132ms/step - loss: 0.0060 - accuracy: 0.9988 - precision_1: 0.9987 - recall_1: 0.9997 - val_loss: 0.1880 - val_accuracy: 0.9485 - val_precision_1: 0.9728 - val_recall_1: 0.9562 - lr: 1.0000e-04\n",
            "Epoch 27/30\n",
            "129/129 [==============================] - ETA: 0s - loss: 0.0067 - accuracy: 0.9988 - precision_1: 0.9990 - recall_1: 0.9993\n",
            "Epoch 27: val_accuracy did not improve from 0.95027\n",
            "129/129 [==============================] - 17s 132ms/step - loss: 0.0067 - accuracy: 0.9988 - precision_1: 0.9990 - recall_1: 0.9993 - val_loss: 0.1884 - val_accuracy: 0.9485 - val_precision_1: 0.9728 - val_recall_1: 0.9562 - lr: 1.0000e-05\n",
            "Epoch 28/30\n",
            "129/129 [==============================] - ETA: 0s - loss: 0.0049 - accuracy: 0.9995 - precision_1: 1.0000 - recall_1: 0.9993\n",
            "Epoch 28: val_accuracy did not improve from 0.95027\n",
            "129/129 [==============================] - 17s 132ms/step - loss: 0.0049 - accuracy: 0.9995 - precision_1: 1.0000 - recall_1: 0.9993 - val_loss: 0.1892 - val_accuracy: 0.9467 - val_precision_1: 0.9704 - val_recall_1: 0.9562 - lr: 1.0000e-05\n",
            "Epoch 29/30\n",
            "129/129 [==============================] - ETA: 0s - loss: 0.0048 - accuracy: 0.9995 - precision_1: 0.9997 - recall_1: 0.9997\n",
            "Epoch 29: val_accuracy did not improve from 0.95027\n",
            "129/129 [==============================] - 17s 133ms/step - loss: 0.0048 - accuracy: 0.9995 - precision_1: 0.9997 - recall_1: 0.9997 - val_loss: 0.1909 - val_accuracy: 0.9467 - val_precision_1: 0.9704 - val_recall_1: 0.9562 - lr: 1.0000e-05\n",
            "Epoch 30/30\n",
            "129/129 [==============================] - ETA: 0s - loss: 0.0046 - accuracy: 0.9995 - precision_1: 0.9993 - recall_1: 1.0000\n",
            "Epoch 30: val_accuracy did not improve from 0.95027\n",
            "129/129 [==============================] - 20s 158ms/step - loss: 0.0046 - accuracy: 0.9995 - precision_1: 0.9993 - recall_1: 1.0000 - val_loss: 0.1918 - val_accuracy: 0.9449 - val_precision_1: 0.9703 - val_recall_1: 0.9538 - lr: 1.0000e-05\n",
            "RUN HISTORY:\n",
            "\n",
            "dict_keys(['loss', 'accuracy', 'precision_1', 'recall_1', 'val_loss', 'val_accuracy', 'val_precision_1', 'val_recall_1', 'lr'])\n",
            "dict_values([[0.2031112164258957, 0.11483652889728546, 0.0843757912516594, 0.07430429011583328, 0.06762576848268509, 0.05908491834998131, 0.04176901653409004, 0.03876970708370209, 0.03623557463288307, 0.039921946823596954, 0.02874191664159298, 0.0301548819988966, 0.02319543994963169, 0.030452199280261993, 0.024026602506637573, 0.021689048036932945, 0.014864561147987843, 0.008626474998891354, 0.009434269741177559, 0.00779396528378129, 0.00728424359112978, 0.00857254583388567, 0.006618616171181202, 0.004882612265646458, 0.006399308796972036, 0.006007931660860777, 0.006716739386320114, 0.004881960805505514, 0.004832991864532232, 0.004611751064658165], [0.9257462024688721, 0.9580199122428894, 0.9689396023750305, 0.9713661670684814, 0.9769473671913147, 0.9803445935249329, 0.9876243472099304, 0.9873816967010498, 0.988352358341217, 0.9859257340431213, 0.9900509715080261, 0.9885950088500977, 0.9927201867103577, 0.9898083209991455, 0.9915069341659546, 0.9936908483505249, 0.995389461517334, 0.9980587363243103, 0.9975733757019043, 0.9987866878509521, 0.9987866878509521, 0.9980587363243103, 0.9987866878509521, 0.9985440373420715, 0.9990293383598328, 0.9987866878509521, 0.9987866878509521, 0.9995146989822388, 0.9995146989822388, 0.9995146989822388], [0.9542549848556519, 0.9670401811599731, 0.9783981442451477, 0.9787868857383728, 0.984687089920044, 0.984437108039856, 0.9903782606124878, 0.9910269379615784, 0.9920186400413513, 0.9900299310684204, 0.9943333268165588, 0.9916943311691284, 0.9943540096282959, 0.9930163025856018, 0.9927055835723877, 0.9966678023338318, 0.9970059990882874, 0.9983383417129517, 0.9976751804351807, 0.9990026354789734, 0.9993346929550171, 0.9980072975158691, 0.9986711144447327, 0.999334454536438, 0.999002993106842, 0.9986711144447327, 0.9990026354789734, 1.0, 0.9996674656867981, 0.9993353486061096], [0.9434652328491211, 0.9757233262062073, 0.9790489077568054, 0.9820418953895569, 0.983704686164856, 0.9886930584907532, 0.9926837086677551, 0.9916860461235046, 0.9920186400413513, 0.9906883835792542, 0.9920186400413513, 0.9926837086677551, 0.9956767559051514, 0.9930163025856018, 0.9956767559051514, 0.9946790933609009, 0.9966744184494019, 0.9990023374557495, 0.9990023374557495, 0.9993348717689514, 0.9990023374557495, 0.9993348717689514, 0.9996674656867981, 0.9986697435379028, 0.9996674656867981, 0.9996674656867981, 0.9993348717689514, 0.9993348717689514, 0.9996674656867981, 1.0], [0.18730883300304413, 0.15659591555595398, 0.1748383790254593, 0.15734334290027618, 0.15017783641815186, 0.14760878682136536, 0.17721210420131683, 0.18290819227695465, 0.19648200273513794, 0.18219704926013947, 0.19982439279556274, 0.19518376886844635, 0.19942255318164825, 0.2541158199310303, 0.21541953086853027, 0.21492956578731537, 0.1968926042318344, 0.18529057502746582, 0.18412379920482635, 0.18466201424598694, 0.18055494129657745, 0.18046925961971283, 0.18681111931800842, 0.18266937136650085, 0.18732790648937225, 0.1880468875169754, 0.18841029703617096, 0.18916523456573486, 0.19093240797519684, 0.19178007543087006], [0.9218472242355347, 0.9307282567024231, 0.932504415512085, 0.9431616067886353, 0.9449378252029419, 0.9484902024269104, 0.9431616067886353, 0.9413854479789734, 0.9431616067886353, 0.9413854479789734, 0.9378330111503601, 0.9360568523406982, 0.9431616067886353, 0.9236234426498413, 0.9467140436172485, 0.9449378252029419, 0.9467140436172485, 0.9467140436172485, 0.9467140436172485, 0.9467140436172485, 0.9467140436172485, 0.950266420841217, 0.9467140436172485, 0.9467140436172485, 0.9449378252029419, 0.9484902024269104, 0.9484902024269104, 0.9467140436172485, 0.9467140436172485, 0.9449378252029419], [0.9645569324493408, 0.9366196990013123, 0.9697732925415039, 0.9702233076095581, 0.9634146094322205, 0.9727723002433777, 0.9566265344619751, 0.9772727489471436, 0.9396751523017883, 0.9678217768669128, 0.9563106894493103, 0.967581033706665, 0.9656019806861877, 0.9842105507850647, 0.948235273361206, 0.9656862616539001, 0.970370352268219, 0.970370352268219, 0.970370352268219, 0.970370352268219, 0.970370352268219, 0.9728395342826843, 0.970370352268219, 0.970370352268219, 0.9702970385551453, 0.9727723002433777, 0.9727723002433777, 0.970370352268219, 0.970370352268219, 0.9702970385551453], [0.9270073175430298, 0.970802903175354, 0.9367396831512451, 0.9513381719589233, 0.9610705375671387, 0.956204354763031, 0.9659367203712463, 0.9416058659553528, 0.985401451587677, 0.9513381719589233, 0.9586374759674072, 0.9440389275550842, 0.956204354763031, 0.9099756479263306, 0.9805352687835693, 0.9586374759674072, 0.956204354763031, 0.956204354763031, 0.956204354763031, 0.956204354763031, 0.956204354763031, 0.9586374759674072, 0.956204354763031, 0.956204354763031, 0.9537712931632996, 0.956204354763031, 0.956204354763031, 0.956204354763031, 0.956204354763031, 0.9537712931632996], [0.001, 0.001, 0.001, 0.001, 0.001, 0.001, 0.001, 0.001, 0.001, 0.001, 0.001, 0.001, 0.001, 0.001, 0.001, 0.001, 0.000100000005, 0.000100000005, 0.000100000005, 0.000100000005, 0.000100000005, 0.000100000005, 0.000100000005, 0.000100000005, 0.000100000005, 0.000100000005, 1.0000001e-05, 1.0000001e-05, 1.0000001e-05, 1.0000001e-05]])\n"
          ]
        }
      ]
    },
    {
      "cell_type": "code",
      "source": [],
      "metadata": {
        "colab": {
          "base_uri": "https://localhost:8080/"
        },
        "id": "0612K3C8hmf_",
        "outputId": "380e3b74-18dc-4de3-f6f2-e6f3b4dab682"
      },
      "execution_count": null,
      "outputs": [
        {
          "output_type": "execute_result",
          "data": {
            "text/plain": [
              "[0.17194302380084991, 0.16599978506565094, 0.17587825655937195]"
            ]
          },
          "metadata": {},
          "execution_count": 46
        }
      ]
    },
    {
      "cell_type": "code",
      "source": [
        "history_test={'test_loss': [], 'test_accuracy': [], 'test_precision': [], 'test_recall': []}\n",
        "\n",
        "# After the run the saved models are loaded to predict the test accuracy and loss every 10th epoch \n",
        "for i in range(10, num_epochs+1, 10):\n",
        "  final_model = load_model(f'{model_file_prefix}_epoch_{i:03d}.h5')\n",
        "  scores = final_model.evaluate(X_test,y_test)\n",
        "  history_test['test_loss'].append(scores[0])\n",
        "  history_test['test_accuracy'].append(scores[1])\n",
        "  history_test['test_precision'].append(scores[2])\n",
        "  history_test['test_recall'].append(scores[3])\n"
      ],
      "metadata": {
        "colab": {
          "base_uri": "https://localhost:8080/"
        },
        "id": "B51SLKPm8qJV",
        "outputId": "3184e30f-93d0-41a5-adef-492506b931c4"
      },
      "execution_count": null,
      "outputs": [
        {
          "output_type": "stream",
          "name": "stdout",
          "text": [
            "37/37 [==============================] - 6s 129ms/step - loss: 0.1719 - accuracy: 0.9505 - precision_1: 0.9639 - recall_1: 0.9684\n",
            "37/37 [==============================] - 5s 107ms/step - loss: 0.1660 - accuracy: 0.9556 - precision_1: 0.9718 - recall_1: 0.9673\n",
            "37/37 [==============================] - 5s 106ms/step - loss: 0.1759 - accuracy: 0.9582 - precision_1: 0.9730 - recall_1: 0.9696\n"
          ]
        }
      ]
    },
    {
      "cell_type": "code",
      "source": [
        "plot_data = {}\n",
        "\n",
        "plot_data_keys = list(history.history.keys())\n",
        "plot_data_values = list(history.history.values())\n",
        "\n",
        "for i in range(len(plot_data_keys)):\n",
        "  plot_data[plot_data_keys[i]] = plot_data_values[i]\n",
        "  \n",
        "# best model predictions\n",
        "final_model = load_model(model_file_prefix + '_best_model.h5')\n",
        "scores = final_model.evaluate(X_test,y_test)\n",
        "print(scores)\n",
        "\n",
        "best_epic_number = 22\n",
        "# will be used in the plot !!!"
      ],
      "metadata": {
        "colab": {
          "base_uri": "https://localhost:8080/"
        },
        "id": "WDTpEwLSh-ej",
        "outputId": "49de461b-8bcc-499a-9f6b-321cdb2772a4"
      },
      "execution_count": null,
      "outputs": [
        {
          "output_type": "stream",
          "name": "stdout",
          "text": [
            "37/37 [==============================] - 5s 103ms/step - loss: 0.1686 - accuracy: 0.9548 - precision_1: 0.9707 - recall_1: 0.9673\n",
            "[0.16864299774169922, 0.9547781348228455, 0.9706572890281677, 0.9672514796257019]\n"
          ]
        }
      ]
    },
    {
      "cell_type": "code",
      "source": [
        "f1(0.9706572890281677, 0.9672514796257019)"
      ],
      "metadata": {
        "colab": {
          "base_uri": "https://localhost:8080/"
        },
        "id": "lYlnCiP1jD5W",
        "outputId": "3fec3406-eb1c-4127-c4df-20e974933e8c"
      },
      "execution_count": null,
      "outputs": [
        {
          "output_type": "execute_result",
          "data": {
            "text/plain": [
              "0.9689513915292672"
            ]
          },
          "metadata": {},
          "execution_count": 51
        }
      ]
    },
    {
      "cell_type": "code",
      "source": [
        "num_of_x_values = len(plot_data_values[0])\n",
        "\n",
        "# summarize history for accuracy\n",
        "fig = plt.figure(figsize = (10, 7))\n",
        "plt.plot(np.arange(1,num_of_x_values+1), plot_data['accuracy'])\n",
        "plt.plot(np.arange(1,num_of_x_values+1), plot_data['val_accuracy'])\n",
        "plt.scatter(np.arange(10,num_of_x_values+1, 10), history_test['test_accuracy'], s=50, color='green')\n",
        "plt.scatter([best_epic_number], scores[1], s=50, color='green', marker='x')\n",
        "\n",
        "plt.title('Accuracy per Epoch')\n",
        "plt.ylabel('Accuracy')\n",
        "plt.xlabel('Epoch')\n",
        "plt.xticks(np.arange(0,num_of_x_values+1,10))\n",
        "\n",
        "plt.legend(['train', 'validation', 'test', 'best'], loc='lower right')\n",
        "plt.ylim([0.8,1])\n",
        "\n",
        "plt.show()\n",
        "\n",
        "# summarize history for loss\n",
        "fig = plt.figure(figsize = (10, 7))\n",
        "plt.plot(np.arange(1,num_of_x_values+1), plot_data['loss'])\n",
        "plt.plot(np.arange(1,num_of_x_values+1), plot_data['val_loss'])\n",
        "plt.scatter(np.arange(10,num_of_x_values+1, 10), history_test['test_loss'], s=50, color='green')\n",
        "plt.scatter([best_epic_number], scores[0], s=50, color='green', marker='x')\n",
        "\n",
        "plt.title('Loss per Epoch')\n",
        "plt.ylabel('MSE')\n",
        "plt.xlabel('Epoch')\n",
        "#plt.xticks(np.arange(1,len(history.epoch)+1))\n",
        "plt.xticks(np.arange(0,num_of_x_values+1,10))\n",
        "plt.legend(['train', 'validation', 'test', 'best'], loc='upper right')\n",
        "plt.ylim([0,0.5])\n",
        "\n",
        "plt.show()\n",
        "\n",
        "\n",
        "# f1\n",
        "plot_data['f1'] = f1(np.array(plot_data['precision_1']),np.array(plot_data['recall_1']))\n",
        "plot_data['val_f1'] = f1(np.array(plot_data['val_precision_1']),np.array(plot_data['val_recall_1']))\n",
        "plot_data['test_f1'] = f1(np.array(history_test['test_precision']),np.array(history_test['test_recall']))\n",
        "\n",
        "fig = plt.figure(figsize = (10, 7))\n",
        "plt.plot(np.arange(1,num_of_x_values+1), plot_data['f1'])\n",
        "plt.plot(np.arange(1,num_of_x_values+1), plot_data['val_f1'])\n",
        "plt.scatter(np.arange(10,num_of_x_values+1, 10), plot_data['test_f1'], s=50, color='green')\n",
        "plt.scatter([best_epic_number], f1(scores[2], scores[3]), s=50, color='green', marker='x')\n",
        "\n",
        "plt.title('F1-Score per Epoch')\n",
        "plt.ylabel('F1')\n",
        "plt.xlabel('Epoch')\n",
        "#plt.xticks(np.arange(1,len(history.epoch)+1))\n",
        "plt.xticks(np.arange(0,num_of_x_values+1,10))\n",
        "plt.legend(['train', 'validation', 'test', 'best'], loc='lower right')\n",
        "plt.ylim([0.8,1.0])\n",
        "\n",
        "plt.show()\n"
      ],
      "metadata": {
        "colab": {
          "base_uri": "https://localhost:8080/",
          "height": 1000
        },
        "id": "UCxTOoIs89gW",
        "outputId": "f735ef48-5620-4201-84cf-5c17219284c3"
      },
      "execution_count": null,
      "outputs": [
        {
          "output_type": "display_data",
          "data": {
            "text/plain": [
              "<Figure size 720x504 with 1 Axes>"
            ],
            "image/png": "[encoded data removed]"
          },
          "metadata": {
            "needs_background": "light"
          }
        },
        {
          "output_type": "display_data",
          "data": {
            "text/plain": [
              "<Figure size 720x504 with 1 Axes>"
            ],
            "image/png": "[encoded data removed]"
          },
          "metadata": {
            "needs_background": "light"
          }
        },
        {
          "output_type": "display_data",
          "data": {
            "text/plain": [
              "<Figure size 720x504 with 1 Axes>"
            ],
            "image/png": "[encoded data removed]"
          },
          "metadata": {
            "needs_background": "light"
          }
        }
      ]
    }
  ],
  "metadata": {
    "accelerator": "GPU",
    "colab": {
      "machine_shape": "hm",
      "provenance": [],
      "collapsed_sections": [
        "LvzuAbvh5cR_",
        "dYCFhSKN1U8f",
        "2oCven42wTH2",
        "pRnJzRg1PDqh",
        "eCkqpiIDmoHs",
        "VQ4gq58G1ppu",
        "3-UEBY6y5xsj",
        "uUi_kFn67Iuj"
      ],
      "authorship_tag": "ABX9TyPD2ZNh2HoBQQ/U4yvhlnVb",
      "include_colab_link": true
    },
    "gpuClass": "standard",
    "kernelspec": {
      "display_name": "Python 3",
      "name": "python3"
    },
    "language_info": {
      "name": "python"
    }
  },
  "nbformat": 4,
  "nbformat_minor": 0
}